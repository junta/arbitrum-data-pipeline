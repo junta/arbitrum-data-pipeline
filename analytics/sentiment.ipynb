{
 "cells": [
  {
   "cell_type": "code",
   "execution_count": 4,
   "metadata": {},
   "outputs": [
    {
     "name": "stdout",
     "output_type": "stream",
     "text": [
      "<class 'pandas.core.frame.DataFrame'>\n",
      "RangeIndex: 4834 entries, 0 to 4833\n",
      "Data columns (total 8 columns):\n",
      " #   Column           Non-Null Count  Dtype  \n",
      "---  ------           --------------  -----  \n",
      " 0   id_proposal      4834 non-null   object \n",
      " 1   title_proposal   4834 non-null   object \n",
      " 2   votes            4834 non-null   int64  \n",
      " 3   scores_total     4834 non-null   float64\n",
      " 4   selected_choice  4834 non-null   object \n",
      " 5   forum_topic_id   4834 non-null   int64  \n",
      " 6   id               4834 non-null   int64  \n",
      " 7   raw              4834 non-null   object \n",
      "dtypes: float64(1), int64(3), object(4)\n",
      "memory usage: 302.3+ KB\n",
      "None\n"
     ]
    }
   ],
   "source": [
    "from textblob import TextBlob\n",
    "import pandas as pd\n",
    "pd.set_option('display.max_rows', 200)\n",
    "\n",
    "cleaned_proposals = pd.read_parquet(\"../output_data/snapshot/cleaned_proposals.parquet\")\n",
    "forum_topics = pd.read_parquet(\"../output_data/forum/topics.parquet\")\n",
    "\n",
    "proposal_merged_df = pd.merge(\n",
    "    cleaned_proposals, forum_topics, left_on=\"forum_topic_id\", right_on=\"id\", suffixes=('_proposal', '_topic')\n",
    ")\n",
    "\n",
    "posts = pd.read_parquet(\"../output_data/forum/posts.parquet\")\n",
    "\n",
    "\n",
    "merged_df = pd.merge(\n",
    "    proposal_merged_df, posts, left_on=\"forum_topic_id\", right_on=\"topic_id\", how=\"inner\", suffixes=('_', '_post')\n",
    ")\n",
    "df = merged_df[[\"id_proposal\", \"title_proposal\", \"votes\", \"scores_total\", \"selected_choice\", \"forum_topic_id\", \"id\", \"raw\"]]\n",
    "print(df.info())\n",
    "# print(merged_df[merged_df[\"topic_id\"] == 20957][\"raw\"])\n",
    "\n",
    "\n",
    "# column_names_list = list(merged_df.columns)\n",
    "# column_names_list"
   ]
  },
  {
   "cell_type": "code",
   "execution_count": 57,
   "metadata": {},
   "outputs": [
    {
     "name": "stderr",
     "output_type": "stream",
     "text": [
      "/var/folders/gl/3nbwj5r1183_gfp3xql0hclr0000gn/T/ipykernel_8133/2931585712.py:4: SettingWithCopyWarning: \n",
      "A value is trying to be set on a copy of a slice from a DataFrame.\n",
      "Try using .loc[row_indexer,col_indexer] = value instead\n",
      "\n",
      "See the caveats in the documentation: https://pandas.pydata.org/pandas-docs/stable/user_guide/indexing.html#returning-a-view-versus-a-copy\n",
      "  df[['polarity', 'subjectivity']] = df['raw'].apply(lambda x: pd.Series(TextBlob(x).sentiment))\n"
     ]
    }
   ],
   "source": [
    "# TODO: add data cleaning(remove html tag)\n",
    "\n",
    "# Apply sentiment analysis to each record and split the results into two columns: 'polarity' and 'subjectivity'\n",
    "df[['polarity', 'subjectivity']] = df['raw'].apply(lambda x: pd.Series(TextBlob(x).sentiment))\n",
    "\n",
    "sentiment_by_proposal = df.groupby(['id_proposal', 'title_proposal', \"votes\", \"scores_total\", \"selected_choice\", \"forum_topic_id\"])[['polarity', 'subjectivity']].mean().reset_index()\n",
    "\n",
    "sentiment_by_proposal.to_csv(\"data/sentiment_by_proposal.csv\", index=False)\n",
    "# low = average_polarity[average_polarity['polarity'] == average_polarity['polarity'].min()]\n",
    "\n",
    "\n",
    "\n",
    "# df.head()\n",
    "# average_polarity = df['polarity'].mean()\n",
    "# print(average_polarity)\n",
    "# average_subjectivity = df['subjectivity'].mean()\n",
    "# print(average_subjectivity)\n"
   ]
  },
  {
   "cell_type": "markdown",
   "metadata": {},
   "source": [
    "## Visualize "
   ]
  },
  {
   "cell_type": "code",
   "execution_count": 26,
   "metadata": {},
   "outputs": [
    {
     "data": {
      "application/vnd.plotly.v1+json": {
       "config": {
        "plotlyServerURL": "https://plot.ly"
       },
       "data": [
        {
         "alignmentgroup": "True",
         "hovertemplate": "selected_choice=%{x}<br>polarity=%{y}<extra></extra>",
         "legendgroup": "",
         "marker": {
          "color": "#636efa"
         },
         "name": "",
         "notched": false,
         "offsetgroup": "",
         "orientation": "v",
         "showlegend": false,
         "type": "box",
         "x": [
          "Against",
          "For",
          "For",
          "Against",
          "For",
          "For",
          "For",
          "For",
          "Against",
          "Against",
          "For",
          "For",
          "Against",
          "For",
          "For",
          "Abstain",
          "For",
          "For",
          "For",
          "For",
          "Against",
          "For",
          "For",
          "Against",
          "For",
          "Against",
          "For",
          "For",
          "For",
          "For",
          "For",
          "For",
          "Against",
          "For",
          "Against",
          "For",
          "Abstain",
          "For",
          "Against",
          "Against",
          "For",
          "For",
          "For",
          "For",
          "For",
          "Against",
          "Against",
          "Abstain",
          "For",
          "Abstain",
          "For",
          "Against",
          "Against",
          "For",
          "Abstain",
          "For",
          "For",
          "For",
          "Against",
          "For",
          "For",
          "For",
          "For",
          "Abstain",
          "For",
          "Against",
          "Abstain",
          "For",
          "For",
          "For",
          "For",
          "For",
          "For",
          "For",
          "For",
          "Against",
          "For",
          "Against",
          "For",
          "For",
          "Against",
          "For",
          "For",
          "Against",
          "For",
          "For",
          "For",
          "For",
          "For",
          "Against",
          "For",
          "For",
          "For",
          "For",
          "For",
          "For",
          "Abstain",
          "For",
          "For",
          "For",
          "Against",
          "For",
          "For",
          "Abstain",
          "For",
          "Abstain",
          "For",
          "For",
          "Against",
          "For",
          "Against",
          "For",
          "Against",
          "Against",
          "Against",
          "For",
          "For",
          "For",
          "Against",
          "For",
          "For",
          "For"
         ],
         "x0": " ",
         "xaxis": "x",
         "y": [
          0.1201727943275674,
          0.1648197674358665,
          0.1246977286557238,
          0.1316007499229419,
          0.1163747564190652,
          0.1595543881586259,
          0.1700124007936508,
          0.1914458874458874,
          0.1900625079577285,
          0.0858644759450861,
          0.1594004459825888,
          0.1910557189150804,
          0.1326358195463726,
          0.1092661548308697,
          0.0737581312072052,
          0.0895259161570137,
          0.1765708691547706,
          0.084658640993675,
          0.1594004459825888,
          0.1100849767516434,
          0.0848279649643286,
          0.2127904514219875,
          0.1050007513269897,
          0.0858590114458355,
          0.0669994035283295,
          0.1974706007251985,
          0.1984702936470049,
          0.1681807426229679,
          0.2234722345180505,
          0.2408751999395625,
          0.2246963816455588,
          0.1624522112153905,
          0.1561875319426759,
          0.1543374750450837,
          0.0740127202343111,
          0.1792678496056183,
          0.2179902990142169,
          0.1889047018243398,
          0.2020663665513395,
          0.1768556437857584,
          0.2836641607400536,
          0.3051162146024391,
          0.1990758570930985,
          0.3518665302126659,
          0.0611601914950129,
          0.1232289870093598,
          0.0703156097583808,
          0.1413321834399171,
          0.203341551777909,
          0.1373914017800381,
          0.1918929171676777,
          0.1597320235439085,
          0.1021689837092763,
          0.1687786276411099,
          0.0729197247174757,
          0.2035882701949002,
          0.1863709417057631,
          0.1714259991859531,
          0.0791460506706408,
          0.1679179088091292,
          0.2173378010316269,
          0.2600650090114841,
          0.1866404375828716,
          0.1507228285604453,
          0.2479129966564625,
          0.0594759626338573,
          0.2726213210112979,
          0.1037918082101463,
          0.2143880519695252,
          0.2121876736835517,
          0.0823572123898186,
          0.1307300587426983,
          0.0633600093751035,
          0.160072377610425,
          0.1466772130779212,
          0.1646221047730439,
          0.1916006521408966,
          0.0812201302296817,
          0.1935682852016037,
          0.1503518368035544,
          0.0935615265493314,
          0.1545964967928746,
          0.196253107240309,
          0.2075306757735018,
          0.1721882674910527,
          0.024709582394158,
          0.2240695237854854,
          0.289789349256186,
          0.2025382996927693,
          0.1049544777219742,
          0.2075562119439627,
          0.1201967258133462,
          0.0669994035283295,
          0.1591086088557347,
          0.1509347785499101,
          0.1358456254300115,
          0.1972926900887218,
          0.1310280697857538,
          0.1844253323065823,
          0.2008201498230064,
          0.1667025210292379,
          0.1773015444418033,
          0.1435239866276451,
          0.1269692651848833,
          0.1528306326163469,
          0.0517688700049469,
          0.2002097313147437,
          0.1670556726459504,
          0.1951792173317666,
          0.1092851592851592,
          0.1296249262101534,
          0.1436418556860984,
          0.0858590114458355,
          0.116443733673804,
          0.1006204146626081,
          0.296995644640719,
          0.185255319353475,
          0.1224588158036808,
          0.1845663699574061,
          0.223963715857968,
          0.1412862639748192,
          0.1499989462292094
         ],
         "y0": " ",
         "yaxis": "y"
        }
       ],
       "layout": {
        "boxmode": "group",
        "legend": {
         "tracegroupgap": 0
        },
        "margin": {
         "t": 60
        },
        "template": {
         "data": {
          "bar": [
           {
            "error_x": {
             "color": "#2a3f5f"
            },
            "error_y": {
             "color": "#2a3f5f"
            },
            "marker": {
             "line": {
              "color": "#E5ECF6",
              "width": 0.5
             },
             "pattern": {
              "fillmode": "overlay",
              "size": 10,
              "solidity": 0.2
             }
            },
            "type": "bar"
           }
          ],
          "barpolar": [
           {
            "marker": {
             "line": {
              "color": "#E5ECF6",
              "width": 0.5
             },
             "pattern": {
              "fillmode": "overlay",
              "size": 10,
              "solidity": 0.2
             }
            },
            "type": "barpolar"
           }
          ],
          "carpet": [
           {
            "aaxis": {
             "endlinecolor": "#2a3f5f",
             "gridcolor": "white",
             "linecolor": "white",
             "minorgridcolor": "white",
             "startlinecolor": "#2a3f5f"
            },
            "baxis": {
             "endlinecolor": "#2a3f5f",
             "gridcolor": "white",
             "linecolor": "white",
             "minorgridcolor": "white",
             "startlinecolor": "#2a3f5f"
            },
            "type": "carpet"
           }
          ],
          "choropleth": [
           {
            "colorbar": {
             "outlinewidth": 0,
             "ticks": ""
            },
            "type": "choropleth"
           }
          ],
          "contour": [
           {
            "colorbar": {
             "outlinewidth": 0,
             "ticks": ""
            },
            "colorscale": [
             [
              0,
              "#0d0887"
             ],
             [
              0.1111111111111111,
              "#46039f"
             ],
             [
              0.2222222222222222,
              "#7201a8"
             ],
             [
              0.3333333333333333,
              "#9c179e"
             ],
             [
              0.4444444444444444,
              "#bd3786"
             ],
             [
              0.5555555555555556,
              "#d8576b"
             ],
             [
              0.6666666666666666,
              "#ed7953"
             ],
             [
              0.7777777777777778,
              "#fb9f3a"
             ],
             [
              0.8888888888888888,
              "#fdca26"
             ],
             [
              1,
              "#f0f921"
             ]
            ],
            "type": "contour"
           }
          ],
          "contourcarpet": [
           {
            "colorbar": {
             "outlinewidth": 0,
             "ticks": ""
            },
            "type": "contourcarpet"
           }
          ],
          "heatmap": [
           {
            "colorbar": {
             "outlinewidth": 0,
             "ticks": ""
            },
            "colorscale": [
             [
              0,
              "#0d0887"
             ],
             [
              0.1111111111111111,
              "#46039f"
             ],
             [
              0.2222222222222222,
              "#7201a8"
             ],
             [
              0.3333333333333333,
              "#9c179e"
             ],
             [
              0.4444444444444444,
              "#bd3786"
             ],
             [
              0.5555555555555556,
              "#d8576b"
             ],
             [
              0.6666666666666666,
              "#ed7953"
             ],
             [
              0.7777777777777778,
              "#fb9f3a"
             ],
             [
              0.8888888888888888,
              "#fdca26"
             ],
             [
              1,
              "#f0f921"
             ]
            ],
            "type": "heatmap"
           }
          ],
          "heatmapgl": [
           {
            "colorbar": {
             "outlinewidth": 0,
             "ticks": ""
            },
            "colorscale": [
             [
              0,
              "#0d0887"
             ],
             [
              0.1111111111111111,
              "#46039f"
             ],
             [
              0.2222222222222222,
              "#7201a8"
             ],
             [
              0.3333333333333333,
              "#9c179e"
             ],
             [
              0.4444444444444444,
              "#bd3786"
             ],
             [
              0.5555555555555556,
              "#d8576b"
             ],
             [
              0.6666666666666666,
              "#ed7953"
             ],
             [
              0.7777777777777778,
              "#fb9f3a"
             ],
             [
              0.8888888888888888,
              "#fdca26"
             ],
             [
              1,
              "#f0f921"
             ]
            ],
            "type": "heatmapgl"
           }
          ],
          "histogram": [
           {
            "marker": {
             "pattern": {
              "fillmode": "overlay",
              "size": 10,
              "solidity": 0.2
             }
            },
            "type": "histogram"
           }
          ],
          "histogram2d": [
           {
            "colorbar": {
             "outlinewidth": 0,
             "ticks": ""
            },
            "colorscale": [
             [
              0,
              "#0d0887"
             ],
             [
              0.1111111111111111,
              "#46039f"
             ],
             [
              0.2222222222222222,
              "#7201a8"
             ],
             [
              0.3333333333333333,
              "#9c179e"
             ],
             [
              0.4444444444444444,
              "#bd3786"
             ],
             [
              0.5555555555555556,
              "#d8576b"
             ],
             [
              0.6666666666666666,
              "#ed7953"
             ],
             [
              0.7777777777777778,
              "#fb9f3a"
             ],
             [
              0.8888888888888888,
              "#fdca26"
             ],
             [
              1,
              "#f0f921"
             ]
            ],
            "type": "histogram2d"
           }
          ],
          "histogram2dcontour": [
           {
            "colorbar": {
             "outlinewidth": 0,
             "ticks": ""
            },
            "colorscale": [
             [
              0,
              "#0d0887"
             ],
             [
              0.1111111111111111,
              "#46039f"
             ],
             [
              0.2222222222222222,
              "#7201a8"
             ],
             [
              0.3333333333333333,
              "#9c179e"
             ],
             [
              0.4444444444444444,
              "#bd3786"
             ],
             [
              0.5555555555555556,
              "#d8576b"
             ],
             [
              0.6666666666666666,
              "#ed7953"
             ],
             [
              0.7777777777777778,
              "#fb9f3a"
             ],
             [
              0.8888888888888888,
              "#fdca26"
             ],
             [
              1,
              "#f0f921"
             ]
            ],
            "type": "histogram2dcontour"
           }
          ],
          "mesh3d": [
           {
            "colorbar": {
             "outlinewidth": 0,
             "ticks": ""
            },
            "type": "mesh3d"
           }
          ],
          "parcoords": [
           {
            "line": {
             "colorbar": {
              "outlinewidth": 0,
              "ticks": ""
             }
            },
            "type": "parcoords"
           }
          ],
          "pie": [
           {
            "automargin": true,
            "type": "pie"
           }
          ],
          "scatter": [
           {
            "fillpattern": {
             "fillmode": "overlay",
             "size": 10,
             "solidity": 0.2
            },
            "type": "scatter"
           }
          ],
          "scatter3d": [
           {
            "line": {
             "colorbar": {
              "outlinewidth": 0,
              "ticks": ""
             }
            },
            "marker": {
             "colorbar": {
              "outlinewidth": 0,
              "ticks": ""
             }
            },
            "type": "scatter3d"
           }
          ],
          "scattercarpet": [
           {
            "marker": {
             "colorbar": {
              "outlinewidth": 0,
              "ticks": ""
             }
            },
            "type": "scattercarpet"
           }
          ],
          "scattergeo": [
           {
            "marker": {
             "colorbar": {
              "outlinewidth": 0,
              "ticks": ""
             }
            },
            "type": "scattergeo"
           }
          ],
          "scattergl": [
           {
            "marker": {
             "colorbar": {
              "outlinewidth": 0,
              "ticks": ""
             }
            },
            "type": "scattergl"
           }
          ],
          "scattermapbox": [
           {
            "marker": {
             "colorbar": {
              "outlinewidth": 0,
              "ticks": ""
             }
            },
            "type": "scattermapbox"
           }
          ],
          "scatterpolar": [
           {
            "marker": {
             "colorbar": {
              "outlinewidth": 0,
              "ticks": ""
             }
            },
            "type": "scatterpolar"
           }
          ],
          "scatterpolargl": [
           {
            "marker": {
             "colorbar": {
              "outlinewidth": 0,
              "ticks": ""
             }
            },
            "type": "scatterpolargl"
           }
          ],
          "scatterternary": [
           {
            "marker": {
             "colorbar": {
              "outlinewidth": 0,
              "ticks": ""
             }
            },
            "type": "scatterternary"
           }
          ],
          "surface": [
           {
            "colorbar": {
             "outlinewidth": 0,
             "ticks": ""
            },
            "colorscale": [
             [
              0,
              "#0d0887"
             ],
             [
              0.1111111111111111,
              "#46039f"
             ],
             [
              0.2222222222222222,
              "#7201a8"
             ],
             [
              0.3333333333333333,
              "#9c179e"
             ],
             [
              0.4444444444444444,
              "#bd3786"
             ],
             [
              0.5555555555555556,
              "#d8576b"
             ],
             [
              0.6666666666666666,
              "#ed7953"
             ],
             [
              0.7777777777777778,
              "#fb9f3a"
             ],
             [
              0.8888888888888888,
              "#fdca26"
             ],
             [
              1,
              "#f0f921"
             ]
            ],
            "type": "surface"
           }
          ],
          "table": [
           {
            "cells": {
             "fill": {
              "color": "#EBF0F8"
             },
             "line": {
              "color": "white"
             }
            },
            "header": {
             "fill": {
              "color": "#C8D4E3"
             },
             "line": {
              "color": "white"
             }
            },
            "type": "table"
           }
          ]
         },
         "layout": {
          "annotationdefaults": {
           "arrowcolor": "#2a3f5f",
           "arrowhead": 0,
           "arrowwidth": 1
          },
          "autotypenumbers": "strict",
          "coloraxis": {
           "colorbar": {
            "outlinewidth": 0,
            "ticks": ""
           }
          },
          "colorscale": {
           "diverging": [
            [
             0,
             "#8e0152"
            ],
            [
             0.1,
             "#c51b7d"
            ],
            [
             0.2,
             "#de77ae"
            ],
            [
             0.3,
             "#f1b6da"
            ],
            [
             0.4,
             "#fde0ef"
            ],
            [
             0.5,
             "#f7f7f7"
            ],
            [
             0.6,
             "#e6f5d0"
            ],
            [
             0.7,
             "#b8e186"
            ],
            [
             0.8,
             "#7fbc41"
            ],
            [
             0.9,
             "#4d9221"
            ],
            [
             1,
             "#276419"
            ]
           ],
           "sequential": [
            [
             0,
             "#0d0887"
            ],
            [
             0.1111111111111111,
             "#46039f"
            ],
            [
             0.2222222222222222,
             "#7201a8"
            ],
            [
             0.3333333333333333,
             "#9c179e"
            ],
            [
             0.4444444444444444,
             "#bd3786"
            ],
            [
             0.5555555555555556,
             "#d8576b"
            ],
            [
             0.6666666666666666,
             "#ed7953"
            ],
            [
             0.7777777777777778,
             "#fb9f3a"
            ],
            [
             0.8888888888888888,
             "#fdca26"
            ],
            [
             1,
             "#f0f921"
            ]
           ],
           "sequentialminus": [
            [
             0,
             "#0d0887"
            ],
            [
             0.1111111111111111,
             "#46039f"
            ],
            [
             0.2222222222222222,
             "#7201a8"
            ],
            [
             0.3333333333333333,
             "#9c179e"
            ],
            [
             0.4444444444444444,
             "#bd3786"
            ],
            [
             0.5555555555555556,
             "#d8576b"
            ],
            [
             0.6666666666666666,
             "#ed7953"
            ],
            [
             0.7777777777777778,
             "#fb9f3a"
            ],
            [
             0.8888888888888888,
             "#fdca26"
            ],
            [
             1,
             "#f0f921"
            ]
           ]
          },
          "colorway": [
           "#636efa",
           "#EF553B",
           "#00cc96",
           "#ab63fa",
           "#FFA15A",
           "#19d3f3",
           "#FF6692",
           "#B6E880",
           "#FF97FF",
           "#FECB52"
          ],
          "font": {
           "color": "#2a3f5f"
          },
          "geo": {
           "bgcolor": "white",
           "lakecolor": "white",
           "landcolor": "#E5ECF6",
           "showlakes": true,
           "showland": true,
           "subunitcolor": "white"
          },
          "hoverlabel": {
           "align": "left"
          },
          "hovermode": "closest",
          "mapbox": {
           "style": "light"
          },
          "paper_bgcolor": "white",
          "plot_bgcolor": "#E5ECF6",
          "polar": {
           "angularaxis": {
            "gridcolor": "white",
            "linecolor": "white",
            "ticks": ""
           },
           "bgcolor": "#E5ECF6",
           "radialaxis": {
            "gridcolor": "white",
            "linecolor": "white",
            "ticks": ""
           }
          },
          "scene": {
           "xaxis": {
            "backgroundcolor": "#E5ECF6",
            "gridcolor": "white",
            "gridwidth": 2,
            "linecolor": "white",
            "showbackground": true,
            "ticks": "",
            "zerolinecolor": "white"
           },
           "yaxis": {
            "backgroundcolor": "#E5ECF6",
            "gridcolor": "white",
            "gridwidth": 2,
            "linecolor": "white",
            "showbackground": true,
            "ticks": "",
            "zerolinecolor": "white"
           },
           "zaxis": {
            "backgroundcolor": "#E5ECF6",
            "gridcolor": "white",
            "gridwidth": 2,
            "linecolor": "white",
            "showbackground": true,
            "ticks": "",
            "zerolinecolor": "white"
           }
          },
          "shapedefaults": {
           "line": {
            "color": "#2a3f5f"
           }
          },
          "ternary": {
           "aaxis": {
            "gridcolor": "white",
            "linecolor": "white",
            "ticks": ""
           },
           "baxis": {
            "gridcolor": "white",
            "linecolor": "white",
            "ticks": ""
           },
           "bgcolor": "#E5ECF6",
           "caxis": {
            "gridcolor": "white",
            "linecolor": "white",
            "ticks": ""
           }
          },
          "title": {
           "x": 0.05
          },
          "xaxis": {
           "automargin": true,
           "gridcolor": "white",
           "linecolor": "white",
           "ticks": "",
           "title": {
            "standoff": 15
           },
           "zerolinecolor": "white",
           "zerolinewidth": 2
          },
          "yaxis": {
           "automargin": true,
           "gridcolor": "white",
           "linecolor": "white",
           "ticks": "",
           "title": {
            "standoff": 15
           },
           "zerolinecolor": "white",
           "zerolinewidth": 2
          }
         }
        },
        "xaxis": {
         "anchor": "y",
         "domain": [
          0,
          1
         ],
         "title": {
          "text": "selected_choice"
         }
        },
        "yaxis": {
         "anchor": "x",
         "domain": [
          0,
          1
         ],
         "title": {
          "text": "polarity"
         }
        }
       }
      }
     },
     "metadata": {},
     "output_type": "display_data"
    },
    {
     "name": "stdout",
     "output_type": "stream",
     "text": [
      "TtestResult(statistic=3.9771550458754175, pvalue=0.0001778433733127446, df=65.02940141544285)\n"
     ]
    },
    {
     "data": {
      "application/vnd.plotly.v1+json": {
       "config": {
        "plotlyServerURL": "https://plot.ly"
       },
       "data": [
        {
         "alignmentgroup": "True",
         "hovertemplate": "selected_choice=%{x}<br>subjectivity=%{y}<extra></extra>",
         "legendgroup": "",
         "marker": {
          "color": "#636efa"
         },
         "name": "",
         "notched": false,
         "offsetgroup": "",
         "orientation": "v",
         "showlegend": false,
         "type": "box",
         "x": [
          "Against",
          "For",
          "For",
          "Against",
          "For",
          "For",
          "For",
          "For",
          "Against",
          "Against",
          "For",
          "For",
          "Against",
          "For",
          "For",
          "Abstain",
          "For",
          "For",
          "For",
          "For",
          "Against",
          "For",
          "For",
          "Against",
          "For",
          "Against",
          "For",
          "For",
          "For",
          "For",
          "For",
          "For",
          "Against",
          "For",
          "Against",
          "For",
          "Abstain",
          "For",
          "Against",
          "Against",
          "For",
          "For",
          "For",
          "For",
          "For",
          "Against",
          "Against",
          "Abstain",
          "For",
          "Abstain",
          "For",
          "Against",
          "Against",
          "For",
          "Abstain",
          "For",
          "For",
          "For",
          "Against",
          "For",
          "For",
          "For",
          "For",
          "Abstain",
          "For",
          "Against",
          "Abstain",
          "For",
          "For",
          "For",
          "For",
          "For",
          "For",
          "For",
          "For",
          "Against",
          "For",
          "Against",
          "For",
          "For",
          "Against",
          "For",
          "For",
          "Against",
          "For",
          "For",
          "For",
          "For",
          "For",
          "Against",
          "For",
          "For",
          "For",
          "For",
          "For",
          "For",
          "Abstain",
          "For",
          "For",
          "For",
          "Against",
          "For",
          "For",
          "Abstain",
          "For",
          "Abstain",
          "For",
          "For",
          "Against",
          "For",
          "Against",
          "For",
          "Against",
          "Against",
          "Against",
          "For",
          "For",
          "For",
          "Against",
          "For",
          "For",
          "For"
         ],
         "x0": " ",
         "xaxis": "x",
         "y": [
          0.5229250089368488,
          0.4395258671497061,
          0.5225377947719668,
          0.4874496947146307,
          0.5579334957071824,
          0.4993101023855522,
          0.4689533051775931,
          0.4791237651237651,
          0.5310539550748529,
          0.4442715549615612,
          0.4609559153519156,
          0.5117981128923534,
          0.4831819698715132,
          0.6123736392549143,
          0.4992328239133795,
          0.4527192865677856,
          0.4923648746368224,
          0.4149939588630065,
          0.4609559153519156,
          0.3409398900674942,
          0.5909528810134871,
          0.4583553830955661,
          0.481176538488458,
          0.4488199008344767,
          0.4649618186237245,
          0.5017387792671509,
          0.5385222126144745,
          0.5037218794055178,
          0.5207136000799697,
          0.5346164395130869,
          0.5333615143571961,
          0.4884474302900694,
          0.541712584944667,
          0.4876482204188725,
          0.4471625880432698,
          0.5474667289954844,
          0.4818477208654459,
          0.4700840721543259,
          0.5558566143036799,
          0.5541874094894377,
          0.5364838757472686,
          0.5559372268986372,
          0.4683163324542634,
          0.489023029189349,
          0.5511046344528487,
          0.5576652507177224,
          0.5821466215065612,
          0.4754579877735724,
          0.4365017764024796,
          0.4804695981838027,
          0.5291395702252921,
          0.4698891381883814,
          0.4316366399610603,
          0.495466753440751,
          0.4204271987110588,
          0.4502397335514551,
          0.4732262287396216,
          0.5034766266693291,
          0.518404868355688,
          0.4210328729010155,
          0.5451543021226875,
          0.5445225358406804,
          0.5121538584604758,
          0.4609836280515442,
          0.5711047482240664,
          0.4382076782866256,
          0.5038111836959763,
          0.4245929248185657,
          0.5653892707545981,
          0.5015139355600461,
          0.5262468246361897,
          0.42104016575083,
          0.5633590210235089,
          0.5197759469149411,
          0.5072345448634857,
          0.4751691942239713,
          0.5175822576188231,
          0.5215153882201224,
          0.4943482216951604,
          0.4802039857889478,
          0.3634895870276968,
          0.4674536592931479,
          0.4819732039896826,
          0.5463869959843204,
          0.4033131643416989,
          0.5247853010620065,
          0.5447275018632137,
          0.4074636407031177,
          0.5142635716253594,
          0.3854826414409981,
          0.5731698776557648,
          0.4882091826118121,
          0.4649618186237245,
          0.4932622443619912,
          0.5001022996253259,
          0.4453221698704077,
          0.555507831946161,
          0.4885746985541102,
          0.4462294677544677,
          0.4198388082005607,
          0.4932427047085791,
          0.4785013829388922,
          0.5082492385082504,
          0.5128023029544058,
          0.4488690485238104,
          0.3379724762152239,
          0.4525017266101659,
          0.448013879229157,
          0.4823038121891375,
          0.5059233724608724,
          0.5027749926840835,
          0.4828529385491949,
          0.4488199008344767,
          0.3927898128564034,
          0.4735183708997617,
          0.476874418504599,
          0.5190522510690249,
          0.3998021964695282,
          0.5350023769176729,
          0.4814853223000544,
          0.3885088565261495,
          0.4432891532809296
         ],
         "y0": " ",
         "yaxis": "y"
        }
       ],
       "layout": {
        "boxmode": "group",
        "legend": {
         "tracegroupgap": 0
        },
        "margin": {
         "t": 60
        },
        "template": {
         "data": {
          "bar": [
           {
            "error_x": {
             "color": "#2a3f5f"
            },
            "error_y": {
             "color": "#2a3f5f"
            },
            "marker": {
             "line": {
              "color": "#E5ECF6",
              "width": 0.5
             },
             "pattern": {
              "fillmode": "overlay",
              "size": 10,
              "solidity": 0.2
             }
            },
            "type": "bar"
           }
          ],
          "barpolar": [
           {
            "marker": {
             "line": {
              "color": "#E5ECF6",
              "width": 0.5
             },
             "pattern": {
              "fillmode": "overlay",
              "size": 10,
              "solidity": 0.2
             }
            },
            "type": "barpolar"
           }
          ],
          "carpet": [
           {
            "aaxis": {
             "endlinecolor": "#2a3f5f",
             "gridcolor": "white",
             "linecolor": "white",
             "minorgridcolor": "white",
             "startlinecolor": "#2a3f5f"
            },
            "baxis": {
             "endlinecolor": "#2a3f5f",
             "gridcolor": "white",
             "linecolor": "white",
             "minorgridcolor": "white",
             "startlinecolor": "#2a3f5f"
            },
            "type": "carpet"
           }
          ],
          "choropleth": [
           {
            "colorbar": {
             "outlinewidth": 0,
             "ticks": ""
            },
            "type": "choropleth"
           }
          ],
          "contour": [
           {
            "colorbar": {
             "outlinewidth": 0,
             "ticks": ""
            },
            "colorscale": [
             [
              0,
              "#0d0887"
             ],
             [
              0.1111111111111111,
              "#46039f"
             ],
             [
              0.2222222222222222,
              "#7201a8"
             ],
             [
              0.3333333333333333,
              "#9c179e"
             ],
             [
              0.4444444444444444,
              "#bd3786"
             ],
             [
              0.5555555555555556,
              "#d8576b"
             ],
             [
              0.6666666666666666,
              "#ed7953"
             ],
             [
              0.7777777777777778,
              "#fb9f3a"
             ],
             [
              0.8888888888888888,
              "#fdca26"
             ],
             [
              1,
              "#f0f921"
             ]
            ],
            "type": "contour"
           }
          ],
          "contourcarpet": [
           {
            "colorbar": {
             "outlinewidth": 0,
             "ticks": ""
            },
            "type": "contourcarpet"
           }
          ],
          "heatmap": [
           {
            "colorbar": {
             "outlinewidth": 0,
             "ticks": ""
            },
            "colorscale": [
             [
              0,
              "#0d0887"
             ],
             [
              0.1111111111111111,
              "#46039f"
             ],
             [
              0.2222222222222222,
              "#7201a8"
             ],
             [
              0.3333333333333333,
              "#9c179e"
             ],
             [
              0.4444444444444444,
              "#bd3786"
             ],
             [
              0.5555555555555556,
              "#d8576b"
             ],
             [
              0.6666666666666666,
              "#ed7953"
             ],
             [
              0.7777777777777778,
              "#fb9f3a"
             ],
             [
              0.8888888888888888,
              "#fdca26"
             ],
             [
              1,
              "#f0f921"
             ]
            ],
            "type": "heatmap"
           }
          ],
          "heatmapgl": [
           {
            "colorbar": {
             "outlinewidth": 0,
             "ticks": ""
            },
            "colorscale": [
             [
              0,
              "#0d0887"
             ],
             [
              0.1111111111111111,
              "#46039f"
             ],
             [
              0.2222222222222222,
              "#7201a8"
             ],
             [
              0.3333333333333333,
              "#9c179e"
             ],
             [
              0.4444444444444444,
              "#bd3786"
             ],
             [
              0.5555555555555556,
              "#d8576b"
             ],
             [
              0.6666666666666666,
              "#ed7953"
             ],
             [
              0.7777777777777778,
              "#fb9f3a"
             ],
             [
              0.8888888888888888,
              "#fdca26"
             ],
             [
              1,
              "#f0f921"
             ]
            ],
            "type": "heatmapgl"
           }
          ],
          "histogram": [
           {
            "marker": {
             "pattern": {
              "fillmode": "overlay",
              "size": 10,
              "solidity": 0.2
             }
            },
            "type": "histogram"
           }
          ],
          "histogram2d": [
           {
            "colorbar": {
             "outlinewidth": 0,
             "ticks": ""
            },
            "colorscale": [
             [
              0,
              "#0d0887"
             ],
             [
              0.1111111111111111,
              "#46039f"
             ],
             [
              0.2222222222222222,
              "#7201a8"
             ],
             [
              0.3333333333333333,
              "#9c179e"
             ],
             [
              0.4444444444444444,
              "#bd3786"
             ],
             [
              0.5555555555555556,
              "#d8576b"
             ],
             [
              0.6666666666666666,
              "#ed7953"
             ],
             [
              0.7777777777777778,
              "#fb9f3a"
             ],
             [
              0.8888888888888888,
              "#fdca26"
             ],
             [
              1,
              "#f0f921"
             ]
            ],
            "type": "histogram2d"
           }
          ],
          "histogram2dcontour": [
           {
            "colorbar": {
             "outlinewidth": 0,
             "ticks": ""
            },
            "colorscale": [
             [
              0,
              "#0d0887"
             ],
             [
              0.1111111111111111,
              "#46039f"
             ],
             [
              0.2222222222222222,
              "#7201a8"
             ],
             [
              0.3333333333333333,
              "#9c179e"
             ],
             [
              0.4444444444444444,
              "#bd3786"
             ],
             [
              0.5555555555555556,
              "#d8576b"
             ],
             [
              0.6666666666666666,
              "#ed7953"
             ],
             [
              0.7777777777777778,
              "#fb9f3a"
             ],
             [
              0.8888888888888888,
              "#fdca26"
             ],
             [
              1,
              "#f0f921"
             ]
            ],
            "type": "histogram2dcontour"
           }
          ],
          "mesh3d": [
           {
            "colorbar": {
             "outlinewidth": 0,
             "ticks": ""
            },
            "type": "mesh3d"
           }
          ],
          "parcoords": [
           {
            "line": {
             "colorbar": {
              "outlinewidth": 0,
              "ticks": ""
             }
            },
            "type": "parcoords"
           }
          ],
          "pie": [
           {
            "automargin": true,
            "type": "pie"
           }
          ],
          "scatter": [
           {
            "fillpattern": {
             "fillmode": "overlay",
             "size": 10,
             "solidity": 0.2
            },
            "type": "scatter"
           }
          ],
          "scatter3d": [
           {
            "line": {
             "colorbar": {
              "outlinewidth": 0,
              "ticks": ""
             }
            },
            "marker": {
             "colorbar": {
              "outlinewidth": 0,
              "ticks": ""
             }
            },
            "type": "scatter3d"
           }
          ],
          "scattercarpet": [
           {
            "marker": {
             "colorbar": {
              "outlinewidth": 0,
              "ticks": ""
             }
            },
            "type": "scattercarpet"
           }
          ],
          "scattergeo": [
           {
            "marker": {
             "colorbar": {
              "outlinewidth": 0,
              "ticks": ""
             }
            },
            "type": "scattergeo"
           }
          ],
          "scattergl": [
           {
            "marker": {
             "colorbar": {
              "outlinewidth": 0,
              "ticks": ""
             }
            },
            "type": "scattergl"
           }
          ],
          "scattermapbox": [
           {
            "marker": {
             "colorbar": {
              "outlinewidth": 0,
              "ticks": ""
             }
            },
            "type": "scattermapbox"
           }
          ],
          "scatterpolar": [
           {
            "marker": {
             "colorbar": {
              "outlinewidth": 0,
              "ticks": ""
             }
            },
            "type": "scatterpolar"
           }
          ],
          "scatterpolargl": [
           {
            "marker": {
             "colorbar": {
              "outlinewidth": 0,
              "ticks": ""
             }
            },
            "type": "scatterpolargl"
           }
          ],
          "scatterternary": [
           {
            "marker": {
             "colorbar": {
              "outlinewidth": 0,
              "ticks": ""
             }
            },
            "type": "scatterternary"
           }
          ],
          "surface": [
           {
            "colorbar": {
             "outlinewidth": 0,
             "ticks": ""
            },
            "colorscale": [
             [
              0,
              "#0d0887"
             ],
             [
              0.1111111111111111,
              "#46039f"
             ],
             [
              0.2222222222222222,
              "#7201a8"
             ],
             [
              0.3333333333333333,
              "#9c179e"
             ],
             [
              0.4444444444444444,
              "#bd3786"
             ],
             [
              0.5555555555555556,
              "#d8576b"
             ],
             [
              0.6666666666666666,
              "#ed7953"
             ],
             [
              0.7777777777777778,
              "#fb9f3a"
             ],
             [
              0.8888888888888888,
              "#fdca26"
             ],
             [
              1,
              "#f0f921"
             ]
            ],
            "type": "surface"
           }
          ],
          "table": [
           {
            "cells": {
             "fill": {
              "color": "#EBF0F8"
             },
             "line": {
              "color": "white"
             }
            },
            "header": {
             "fill": {
              "color": "#C8D4E3"
             },
             "line": {
              "color": "white"
             }
            },
            "type": "table"
           }
          ]
         },
         "layout": {
          "annotationdefaults": {
           "arrowcolor": "#2a3f5f",
           "arrowhead": 0,
           "arrowwidth": 1
          },
          "autotypenumbers": "strict",
          "coloraxis": {
           "colorbar": {
            "outlinewidth": 0,
            "ticks": ""
           }
          },
          "colorscale": {
           "diverging": [
            [
             0,
             "#8e0152"
            ],
            [
             0.1,
             "#c51b7d"
            ],
            [
             0.2,
             "#de77ae"
            ],
            [
             0.3,
             "#f1b6da"
            ],
            [
             0.4,
             "#fde0ef"
            ],
            [
             0.5,
             "#f7f7f7"
            ],
            [
             0.6,
             "#e6f5d0"
            ],
            [
             0.7,
             "#b8e186"
            ],
            [
             0.8,
             "#7fbc41"
            ],
            [
             0.9,
             "#4d9221"
            ],
            [
             1,
             "#276419"
            ]
           ],
           "sequential": [
            [
             0,
             "#0d0887"
            ],
            [
             0.1111111111111111,
             "#46039f"
            ],
            [
             0.2222222222222222,
             "#7201a8"
            ],
            [
             0.3333333333333333,
             "#9c179e"
            ],
            [
             0.4444444444444444,
             "#bd3786"
            ],
            [
             0.5555555555555556,
             "#d8576b"
            ],
            [
             0.6666666666666666,
             "#ed7953"
            ],
            [
             0.7777777777777778,
             "#fb9f3a"
            ],
            [
             0.8888888888888888,
             "#fdca26"
            ],
            [
             1,
             "#f0f921"
            ]
           ],
           "sequentialminus": [
            [
             0,
             "#0d0887"
            ],
            [
             0.1111111111111111,
             "#46039f"
            ],
            [
             0.2222222222222222,
             "#7201a8"
            ],
            [
             0.3333333333333333,
             "#9c179e"
            ],
            [
             0.4444444444444444,
             "#bd3786"
            ],
            [
             0.5555555555555556,
             "#d8576b"
            ],
            [
             0.6666666666666666,
             "#ed7953"
            ],
            [
             0.7777777777777778,
             "#fb9f3a"
            ],
            [
             0.8888888888888888,
             "#fdca26"
            ],
            [
             1,
             "#f0f921"
            ]
           ]
          },
          "colorway": [
           "#636efa",
           "#EF553B",
           "#00cc96",
           "#ab63fa",
           "#FFA15A",
           "#19d3f3",
           "#FF6692",
           "#B6E880",
           "#FF97FF",
           "#FECB52"
          ],
          "font": {
           "color": "#2a3f5f"
          },
          "geo": {
           "bgcolor": "white",
           "lakecolor": "white",
           "landcolor": "#E5ECF6",
           "showlakes": true,
           "showland": true,
           "subunitcolor": "white"
          },
          "hoverlabel": {
           "align": "left"
          },
          "hovermode": "closest",
          "mapbox": {
           "style": "light"
          },
          "paper_bgcolor": "white",
          "plot_bgcolor": "#E5ECF6",
          "polar": {
           "angularaxis": {
            "gridcolor": "white",
            "linecolor": "white",
            "ticks": ""
           },
           "bgcolor": "#E5ECF6",
           "radialaxis": {
            "gridcolor": "white",
            "linecolor": "white",
            "ticks": ""
           }
          },
          "scene": {
           "xaxis": {
            "backgroundcolor": "#E5ECF6",
            "gridcolor": "white",
            "gridwidth": 2,
            "linecolor": "white",
            "showbackground": true,
            "ticks": "",
            "zerolinecolor": "white"
           },
           "yaxis": {
            "backgroundcolor": "#E5ECF6",
            "gridcolor": "white",
            "gridwidth": 2,
            "linecolor": "white",
            "showbackground": true,
            "ticks": "",
            "zerolinecolor": "white"
           },
           "zaxis": {
            "backgroundcolor": "#E5ECF6",
            "gridcolor": "white",
            "gridwidth": 2,
            "linecolor": "white",
            "showbackground": true,
            "ticks": "",
            "zerolinecolor": "white"
           }
          },
          "shapedefaults": {
           "line": {
            "color": "#2a3f5f"
           }
          },
          "ternary": {
           "aaxis": {
            "gridcolor": "white",
            "linecolor": "white",
            "ticks": ""
           },
           "baxis": {
            "gridcolor": "white",
            "linecolor": "white",
            "ticks": ""
           },
           "bgcolor": "#E5ECF6",
           "caxis": {
            "gridcolor": "white",
            "linecolor": "white",
            "ticks": ""
           }
          },
          "title": {
           "x": 0.05
          },
          "xaxis": {
           "automargin": true,
           "gridcolor": "white",
           "linecolor": "white",
           "ticks": "",
           "title": {
            "standoff": 15
           },
           "zerolinecolor": "white",
           "zerolinewidth": 2
          },
          "yaxis": {
           "automargin": true,
           "gridcolor": "white",
           "linecolor": "white",
           "ticks": "",
           "title": {
            "standoff": 15
           },
           "zerolinecolor": "white",
           "zerolinewidth": 2
          }
         }
        },
        "xaxis": {
         "anchor": "y",
         "domain": [
          0,
          1
         ],
         "title": {
          "text": "selected_choice"
         }
        },
        "yaxis": {
         "anchor": "x",
         "domain": [
          0,
          1
         ],
         "title": {
          "text": "subjectivity"
         }
        }
       }
      }
     },
     "metadata": {},
     "output_type": "display_data"
    },
    {
     "name": "stdout",
     "output_type": "stream",
     "text": [
      "TtestResult(statistic=-0.17036940302998288, pvalue=0.8654845543059526, df=44.92732802358942)\n"
     ]
    }
   ],
   "source": [
    "import seaborn as sns\n",
    "import matplotlib.pyplot as plt\n",
    "import plotly.express as px\n",
    "from scipy.stats import ttest_ind\n",
    "\n",
    "df = pd.read_csv('data/sentiment_by_proposal.csv')\n",
    "\n",
    "df = df[df[\"selected_choice\"].isin(['For', 'Against', 'Abstain'])]\n",
    "\n",
    "\n",
    "figPol = px.box(df,x='selected_choice', y=\"polarity\")\n",
    "figPol.show()\n",
    "\n",
    "forGroup = df[df['selected_choice'] == 'For']\n",
    "againstGroup = df[df['selected_choice'] == 'Against']\n",
    "\n",
    "result = ttest_ind(forGroup['polarity'], againstGroup['polarity'], equal_var=False)\n",
    "print(result)\n",
    "# p = 0.0001778433733127446\n",
    "\n",
    "# Create a boxplot\n",
    "figSub = px.box(df,x='selected_choice', y=\"subjectivity\")\n",
    "figSub.show()\n",
    "result = ttest_ind(forGroup['subjectivity'], againstGroup['subjectivity'], equal_var=False)\n",
    "print(result)\n",
    "# p = 0.0001778433733127446\n",
    "\n"
   ]
  },
  {
   "cell_type": "code",
   "execution_count": 19,
   "metadata": {},
   "outputs": [
    {
     "data": {
      "application/vnd.plotly.v1+json": {
       "config": {
        "plotlyServerURL": "https://plot.ly"
       },
       "data": [
        {
         "hovertemplate": "<b>%{hovertext}</b><br><br>polarity=%{x}<br>votes=%{y}<extra></extra>",
         "hovertext": [
          "SpartaDEX STIP Proposal - Round 1",
          "TIDE STIP Proposal - Round 1",
          "Curve STIP Proposal - Round 1",
          "Proposal: [Non-Constitutional] Funding for Into the Dungeons: Machinata - a PvP Digital Miniature Game V2",
          "RabbitHole STIP Proposal - Round 1",
          "Wormhole STIP Proposal - Round 1",
          "Stargate Finance STIP Proposal - Round 1",
          "Furucombo STIP Proposal - Round 1",
          "OmniBTC STIP Proposal - Round 1",
          "ZKasino STIP Proposal - Round 1",
          "Consolidate Security Proposals into a RFP Process",
          "Vertex Protocol STIP Proposal - Round 1",
          "Chronos Finance STIP Proposal - Round 1",
          "CVI STIP Proposal - Round 1",
          "Synapse Protocol STIP Proposal - Round 1",
          "Arbidex STIP Proposal - Round 1",
          "Shell Protocol STIP Proposal - Round 1",
          "Tales of Elleria STIP Proposal - Round 1",
          "Procurement Framework | Security : Non-Constitutional Proposal",
          "Silo Finance STIP Proposal - Round 1",
          "XY STIP Proposal - Round 1",
          "AIP-1.2 - Foundation and DAO Governance",
          "Tally STIP Proposal - Round 1",
          "AIP 1.05: Return 700M $ARB to the DAO Treasury [REAL]",
          "JOJO Exchange STIP Proposal - Round 1",
          "D2.finance STIP Proposal - Round 1",
          "unshETH STIP Proposal - Round 1",
          "WINR Protocol STIP Proposal - Round 1",
          "LODESTAR FINANCE STIP Proposal - Round 1",
          "Rodeo Finance STIP Proposal - Round 1",
          "Vela Exchange STIP Proposal - Round 1",
          "Rysk STIP Proposal - Round 1",
          "NFTEarth STIP Proposal - Round 1",
          "[Constitutional] Changes to the Constitution and the Security Council Election Process",
          "Modular Wallet STIP Proposal - Round 1",
          "Timeswap STIP Proposal - Round 1",
          "Equilibria STIP Proposal - Round 1",
          "[Non-Constitutional]: Arbitrum Stable Treasury Endowment Program",
          "Guru Network STIP Proposal - Round 1",
          "Wombat Exchange STIP Proposal - Round 1",
          "Angle Protocol STIP Proposal - Round 1",
          "Good Entry STIP Proposal - Round 1",
          "Time Management in Arbitrum’s Governance",
          "Proposal: Update Security Council Election Start Date to Ensure Time for Security Audit",
          "Thetanuts STIP Proposal - Round 1",
          "KeplerHomes STIP Proposal - Round 1",
          "Wombex Finance STIP Proposal - Round 1",
          "iZUMi STIP Proposal - Round 1",
          "Proposal: Building the Future of NFTs: The Rarible Protocol - Arbitrum Integration Proposal [REVISED]",
          "LOGX STIP Proposal - Round 1",
          "RADIANT STIP Proposal - Round 1",
          "Accelerating Arbitrum - leveraging Camelot as an ecosystem hub to support native builders",
          "Lido STIP Proposal - Round 1",
          "Camelot STIP Proposal - Round 1",
          "HMX STIP Proposal - Round 1",
          "Arbitrum as official sponsor of Ethereum Mexico 2023",
          "DefiEdge STIP Proposal - Round 1",
          "MUX Protocol STIP Proposal - Round 1",
          "0xGen STIP Proposal - Round 1",
          "AIP-1.1 - Lockup, Budget, Transparency",
          "Dolomite STIP Proposal - Round 1",
          "Pendle STIP Proposal - Round 1",
          "Beefy STIP Proposal - Round 1",
          "UniDex STIP Proposal - Round 1",
          "Trader Joe STIP Proposal - Round 1",
          "CRYPTEX STIP Proposal - Round 1",
          "Archi Finance STIP Proposal - Round 1",
          "AIP: ArbOS Version 20 “Atlas”",
          "Stella STIP Proposal - Round 1",
          "GMX STIP Proposal - Round 1",
          "Prime Protocol STIP Proposal - Round 1",
          "StakeDAO STIP Proposal - Round 1",
          "OpenOcean STIP Proposal - Round 1",
          "KyberSwap STIP Proposal - Round 1",
          "WOOFi STIP Proposal - Round 1",
          "Proposal: Build Optimal Onboarding for STIP Teams (BOOST)",
          "Gamma STIP Proposal - Round 1",
          "tBTC STIP Proposal - Round 1",
          "Perennial Finance STIP Proposal - Round 1",
          "Arrakis Finance STIP Proposal - Round 1",
          "Relay Chain: James Bot STIP Proposal - Round 1",
          "Savvy STIP Proposal - Round 1",
          "Magpie, Penpie, Radpie, Campie STIP Proposal - Round 1",
          "Webacy STIP Proposal - Round 1",
          "Proposal: Empowering Early Contributors: The community Arbiter Proposal",
          "REALM STIP Proposal - Round 1",
          "Umami STIP Proposal - Round 1",
          "Proposal: Activate support for account abstraction endpoint on One and Nova",
          "Dopex STIP Proposal - Round 1",
          "ALAYA STIP Proposal - Round 1",
          "Solv Protocol STIP Proposal - Round 1",
          "RAMSES STIP Proposal - Round 1",
          "Jones DAO STIP Proposal - Round 1",
          "Balancer DAO STIP Proposal - Round 1",
          "AIP: Batch Poster Manager and Sequencer Inbox Finality Fix",
          "Gains Network STIP Proposal - Round 1",
          "QiDao STIP Proposal - Round 1",
          "Proposal to Backfund Successful STIP Proposals",
          "Galxe STIP Proposal - Round 1",
          "Frax Finance STIP Proposal - Round 1",
          "Non-Constitutional AIP: Arbitrum Security Enhancement Fund",
          "Abracadabra DAO STIP Proposal - Round 1",
          "Thales STIP Proposal - Round 1",
          "Quadrat STIP Proposal - Round 1",
          "Notional STIP Proposal - Round 1",
          "Range Protocol STIP Proposal - Round 1",
          "Arbitrum DAO Grants - Delegated Domain Allocation by Questbook",
          "Socket STIP Proposal - Round 1",
          "Vaultka STIP Proposal - Round 1",
          "Florence Finance STIP Proposal - Round 1",
          "Cian STIP Proposal - Round 1",
          "Sanko GameCorp STIP Proposal - Round 1",
          "AIP 1.05: Return 700M $ARB to the DAO Treasury ",
          "ApolloX STIP Proposal - Round 1",
          "Artichoke Protocol STIP Proposal - Round 1",
          "Proposal to onboard Matrixed.Link as a validator for Arbitrum",
          "PancakeSwap STIP Proposal - Round 1",
          " Empowering Early Contributors: The community Arbiter Proposal 2.0",
          "GMD Ecosystem STIP Proposal - Round 1",
          "Premia STIP Proposal - Round 1",
          "Proposal: Security Council Elections Proposed Implementation Spec",
          "dForce STIP Proposal - Round 1"
         ],
         "legendgroup": "",
         "marker": {
          "color": "#636efa",
          "symbol": "circle"
         },
         "mode": "markers",
         "name": "",
         "orientation": "v",
         "showlegend": false,
         "type": "scatter",
         "x": [
          0.1201727943275674,
          0.1648197674358665,
          0.1246977286557238,
          0.1316007499229419,
          0.1163747564190652,
          0.1595543881586259,
          0.1700124007936508,
          0.1914458874458874,
          0.1900625079577285,
          0.0858644759450861,
          0.1594004459825888,
          0.1910557189150804,
          0.1326358195463726,
          0.1092661548308697,
          0.0737581312072052,
          0.0895259161570137,
          0.1765708691547706,
          0.084658640993675,
          0.1594004459825888,
          0.1100849767516434,
          0.0848279649643286,
          0.2127904514219875,
          0.1050007513269897,
          0.0858590114458355,
          0.0669994035283295,
          0.1974706007251985,
          0.1984702936470049,
          0.1681807426229679,
          0.2234722345180505,
          0.2408751999395625,
          0.2246963816455588,
          0.1624522112153905,
          0.1561875319426759,
          0.1543374750450837,
          0.0740127202343111,
          0.1792678496056183,
          0.2179902990142169,
          0.1889047018243398,
          0.2020663665513395,
          0.1768556437857584,
          0.2836641607400536,
          0.3051162146024391,
          0.1990758570930985,
          0.3518665302126659,
          0.0611601914950129,
          0.1232289870093598,
          0.0703156097583808,
          0.1413321834399171,
          0.203341551777909,
          0.1373914017800381,
          0.1918929171676777,
          0.1597320235439085,
          0.1021689837092763,
          0.1687786276411099,
          0.0729197247174757,
          0.2035882701949002,
          0.1863709417057631,
          0.1714259991859531,
          0.0791460506706408,
          0.1679179088091292,
          0.2173378010316269,
          0.2600650090114841,
          0.1866404375828716,
          0.1507228285604453,
          0.2479129966564625,
          0.0594759626338573,
          0.2726213210112979,
          0.1037918082101463,
          0.2143880519695252,
          0.2121876736835517,
          0.0823572123898186,
          0.1307300587426983,
          0.0633600093751035,
          0.160072377610425,
          0.1466772130779212,
          0.1646221047730439,
          0.1916006521408966,
          0.0812201302296817,
          0.1935682852016037,
          0.1503518368035544,
          0.0935615265493314,
          0.1545964967928746,
          0.196253107240309,
          0.2075306757735018,
          0.1721882674910527,
          0.024709582394158,
          0.2240695237854854,
          0.289789349256186,
          0.2025382996927693,
          0.1049544777219742,
          0.2075562119439627,
          0.1201967258133462,
          0.0669994035283295,
          0.1591086088557347,
          0.1509347785499101,
          0.1358456254300115,
          0.1972926900887218,
          0.1310280697857538,
          0.1844253323065823,
          0.2008201498230064,
          0.1667025210292379,
          0.1773015444418033,
          0.1435239866276451,
          0.1269692651848833,
          0.1528306326163469,
          0.0517688700049469,
          0.2002097313147437,
          0.1670556726459504,
          0.1951792173317666,
          0.1092851592851592,
          0.1296249262101534,
          0.1436418556860984,
          0.0858590114458355,
          0.116443733673804,
          0.1006204146626081,
          0.296995644640719,
          0.185255319353475,
          0.1224588158036808,
          0.1845663699574061,
          0.223963715857968,
          0.1412862639748192,
          0.1499989462292094
         ],
         "xaxis": "x",
         "y": [
          18001,
          15873,
          21353,
          25845,
          18303,
          17890,
          18899,
          22011,
          17922,
          20293,
          50045,
          21941,
          16281,
          18290,
          28719,
          17018,
          16787,
          18495,
          50518,
          26404,
          16933,
          46269,
          17997,
          43392,
          26171,
          28413,
          16453,
          17325,
          17068,
          22394,
          17364,
          24207,
          17574,
          27586,
          15783,
          19478,
          17378,
          28073,
          16486,
          23211,
          18064,
          30222,
          50713,
          51495,
          20178,
          16818,
          17433,
          29840,
          50560,
          16384,
          18050,
          49504,
          17692,
          24273,
          18075,
          53609,
          18950,
          17243,
          16178,
          45230,
          21962,
          17310,
          19824,
          32503,
          16780,
          15852,
          16148,
          28294,
          15649,
          17577,
          16927,
          18711,
          16616,
          17033,
          19465,
          43576,
          18121,
          16981,
          18045,
          17395,
          17145,
          16238,
          17647,
          16579,
          44551,
          17154,
          16872,
          45999,
          16896,
          20982,
          17515,
          16301,
          28294,
          18181,
          26146,
          16366,
          18737,
          45352,
          18555,
          16449,
          50737,
          17194,
          25797,
          18337,
          16134,
          16609,
          51622,
          17799,
          18769,
          16163,
          16209,
          23843,
          26246,
          17341,
          18293,
          45087,
          20756,
          26994,
          25908,
          17253,
          53520,
          17276
         ],
         "yaxis": "y"
        },
        {
         "hovertemplate": "<b>OLS trendline</b><br>votes = 42309.1 * polarity + 17195.3<br>R<sup>2</sup>=0.051190<br><br>polarity=%{x}<br>votes=%{y} <b>(trend)</b><extra></extra>",
         "legendgroup": "",
         "line": {
          "color": "darkblue"
         },
         "marker": {
          "color": "#636efa",
          "symbol": "circle"
         },
         "mode": "lines",
         "name": "",
         "showlegend": false,
         "type": "scatter",
         "x": [
          0.024709582394158,
          0.0517688700049469,
          0.0594759626338573,
          0.0611601914950129,
          0.0633600093751035,
          0.0669994035283295,
          0.0669994035283295,
          0.0703156097583808,
          0.0729197247174757,
          0.0737581312072052,
          0.0740127202343111,
          0.0791460506706408,
          0.0812201302296817,
          0.0823572123898186,
          0.084658640993675,
          0.0848279649643286,
          0.0858590114458355,
          0.0858590114458355,
          0.0858644759450861,
          0.0895259161570137,
          0.0935615265493314,
          0.1006204146626081,
          0.1021689837092763,
          0.1037918082101463,
          0.1049544777219742,
          0.1050007513269897,
          0.1092661548308697,
          0.1092851592851592,
          0.1100849767516434,
          0.1163747564190652,
          0.116443733673804,
          0.1201727943275674,
          0.1201967258133462,
          0.1224588158036808,
          0.1232289870093598,
          0.1246977286557238,
          0.1269692651848833,
          0.1296249262101534,
          0.1307300587426983,
          0.1310280697857538,
          0.1316007499229419,
          0.1326358195463726,
          0.1358456254300115,
          0.1373914017800381,
          0.1412862639748192,
          0.1413321834399171,
          0.1435239866276451,
          0.1436418556860984,
          0.1466772130779212,
          0.1499989462292094,
          0.1503518368035544,
          0.1507228285604453,
          0.1509347785499101,
          0.1528306326163469,
          0.1543374750450837,
          0.1545964967928746,
          0.1561875319426759,
          0.1591086088557347,
          0.1594004459825888,
          0.1594004459825888,
          0.1595543881586259,
          0.1597320235439085,
          0.160072377610425,
          0.1624522112153905,
          0.1646221047730439,
          0.1648197674358665,
          0.1667025210292379,
          0.1670556726459504,
          0.1679179088091292,
          0.1681807426229679,
          0.1687786276411099,
          0.1700124007936508,
          0.1714259991859531,
          0.1721882674910527,
          0.1765708691547706,
          0.1768556437857584,
          0.1773015444418033,
          0.1792678496056183,
          0.1844253323065823,
          0.1845663699574061,
          0.185255319353475,
          0.1863709417057631,
          0.1866404375828716,
          0.1889047018243398,
          0.1900625079577285,
          0.1910557189150804,
          0.1914458874458874,
          0.1916006521408966,
          0.1918929171676777,
          0.1935682852016037,
          0.1951792173317666,
          0.196253107240309,
          0.1972926900887218,
          0.1974706007251985,
          0.1984702936470049,
          0.1990758570930985,
          0.2002097313147437,
          0.2008201498230064,
          0.2020663665513395,
          0.2025382996927693,
          0.203341551777909,
          0.2035882701949002,
          0.2075306757735018,
          0.2075562119439627,
          0.2121876736835517,
          0.2127904514219875,
          0.2143880519695252,
          0.2173378010316269,
          0.2179902990142169,
          0.2234722345180505,
          0.223963715857968,
          0.2240695237854854,
          0.2246963816455588,
          0.2408751999395625,
          0.2479129966564625,
          0.2600650090114841,
          0.2726213210112979,
          0.2836641607400536,
          0.289789349256186,
          0.296995644640719,
          0.3051162146024391,
          0.3518665302126659
         ],
         "xaxis": "x",
         "y": [
          18240.760731344224,
          19385.61452626647,
          19711.694590565996,
          19782.952778547366,
          19876.025067972878,
          20030.00451737558,
          20030.00451737558,
          20170.310180326782,
          20280.4879106579,
          20315.96012505099,
          20326.731554736063,
          20543.91808658987,
          20631.67050225923,
          20679.779412031563,
          20777.150758563876,
          20784.3147014275,
          20827.93733828597,
          20827.93733828597,
          20828.168536268506,
          20983.080734320418,
          21153.823731657514,
          21452.47885372341,
          21517.99739860448,
          21586.65762407076,
          21635.849111370888,
          21637.806905421818,
          21818.272239858212,
          21819.076300997098,
          21852.91584898965,
          22119.030693735287,
          22121.949058512175,
          22279.722215823756,
          22280.734735174083,
          22376.44170082449,
          22409.026942544224,
          22471.16806287918,
          22567.27470297697,
          22679.63330038496,
          22726.390450535197,
          22738.99902613697,
          22763.228600757222,
          22807.021453083493,
          22942.825414359344,
          23008.225802790985,
          23173.0138721789,
          23174.956682892705,
          23267.689877989556,
          23272.676810417903,
          23401.100015010623,
          23541.639516961703,
          23556.569995510967,
          23572.26631859495,
          23581.233729461885,
          23661.445586987415,
          23725.198716696617,
          23736.157690753553,
          23803.47293775135,
          23927.061039451477,
          23939.408402286146,
          23939.408402286146,
          23945.921555439683,
          23953.437146680608,
          23967.83721701037,
          24068.52580767533,
          24160.33202629383,
          24168.694953393086,
          24248.352541843986,
          24263.29406485788,
          24299.77449101444,
          24310.894750111253,
          24336.190720271017,
          24388.39053780045,
          24448.198597317805,
          24480.449474517332,
          24665.873356273165,
          24677.921911345027,
          24696.787561674555,
          24779.98014091568,
          24998.188533071952,
          25004.15570752588,
          25033.30452851274,
          25080.50549337509,
          25091.90761829654,
          25187.706574530628,
          25236.692296721845,
          25278.71414703949,
          25295.221821948697,
          25301.769775130237,
          25314.1352420208,
          25385.018536478514,
          25453.175606579793,
          25498.610909785384,
          25542.59471254695,
          25550.12194941501,
          25592.41804574057,
          25618.038883188266,
          25666.012068006978,
          25691.838318709775,
          25744.564612588954,
          25764.531673647136,
          25798.516537224426,
          25808.95496856942,
          25975.754555192132,
          25976.834967288727,
          26172.78789202469,
          26198.290868720487,
          26265.88389171231,
          26390.685085904468,
          26418.291680811624,
          26650.22737532638,
          26671.021502844862,
          26675.49813981674,
          26702.019924510576,
          27386.530979925887,
          27684.293744235387,
          28198.43431070919,
          28729.68042664474,
          29196.89291028542,
          29456.04405344088,
          29760.935842795447,
          30104.5097561715,
          32082.47299785126
         ],
         "yaxis": "y"
        }
       ],
       "layout": {
        "legend": {
         "tracegroupgap": 0
        },
        "template": {
         "data": {
          "bar": [
           {
            "error_x": {
             "color": "#2a3f5f"
            },
            "error_y": {
             "color": "#2a3f5f"
            },
            "marker": {
             "line": {
              "color": "#E5ECF6",
              "width": 0.5
             },
             "pattern": {
              "fillmode": "overlay",
              "size": 10,
              "solidity": 0.2
             }
            },
            "type": "bar"
           }
          ],
          "barpolar": [
           {
            "marker": {
             "line": {
              "color": "#E5ECF6",
              "width": 0.5
             },
             "pattern": {
              "fillmode": "overlay",
              "size": 10,
              "solidity": 0.2
             }
            },
            "type": "barpolar"
           }
          ],
          "carpet": [
           {
            "aaxis": {
             "endlinecolor": "#2a3f5f",
             "gridcolor": "white",
             "linecolor": "white",
             "minorgridcolor": "white",
             "startlinecolor": "#2a3f5f"
            },
            "baxis": {
             "endlinecolor": "#2a3f5f",
             "gridcolor": "white",
             "linecolor": "white",
             "minorgridcolor": "white",
             "startlinecolor": "#2a3f5f"
            },
            "type": "carpet"
           }
          ],
          "choropleth": [
           {
            "colorbar": {
             "outlinewidth": 0,
             "ticks": ""
            },
            "type": "choropleth"
           }
          ],
          "contour": [
           {
            "colorbar": {
             "outlinewidth": 0,
             "ticks": ""
            },
            "colorscale": [
             [
              0,
              "#0d0887"
             ],
             [
              0.1111111111111111,
              "#46039f"
             ],
             [
              0.2222222222222222,
              "#7201a8"
             ],
             [
              0.3333333333333333,
              "#9c179e"
             ],
             [
              0.4444444444444444,
              "#bd3786"
             ],
             [
              0.5555555555555556,
              "#d8576b"
             ],
             [
              0.6666666666666666,
              "#ed7953"
             ],
             [
              0.7777777777777778,
              "#fb9f3a"
             ],
             [
              0.8888888888888888,
              "#fdca26"
             ],
             [
              1,
              "#f0f921"
             ]
            ],
            "type": "contour"
           }
          ],
          "contourcarpet": [
           {
            "colorbar": {
             "outlinewidth": 0,
             "ticks": ""
            },
            "type": "contourcarpet"
           }
          ],
          "heatmap": [
           {
            "colorbar": {
             "outlinewidth": 0,
             "ticks": ""
            },
            "colorscale": [
             [
              0,
              "#0d0887"
             ],
             [
              0.1111111111111111,
              "#46039f"
             ],
             [
              0.2222222222222222,
              "#7201a8"
             ],
             [
              0.3333333333333333,
              "#9c179e"
             ],
             [
              0.4444444444444444,
              "#bd3786"
             ],
             [
              0.5555555555555556,
              "#d8576b"
             ],
             [
              0.6666666666666666,
              "#ed7953"
             ],
             [
              0.7777777777777778,
              "#fb9f3a"
             ],
             [
              0.8888888888888888,
              "#fdca26"
             ],
             [
              1,
              "#f0f921"
             ]
            ],
            "type": "heatmap"
           }
          ],
          "heatmapgl": [
           {
            "colorbar": {
             "outlinewidth": 0,
             "ticks": ""
            },
            "colorscale": [
             [
              0,
              "#0d0887"
             ],
             [
              0.1111111111111111,
              "#46039f"
             ],
             [
              0.2222222222222222,
              "#7201a8"
             ],
             [
              0.3333333333333333,
              "#9c179e"
             ],
             [
              0.4444444444444444,
              "#bd3786"
             ],
             [
              0.5555555555555556,
              "#d8576b"
             ],
             [
              0.6666666666666666,
              "#ed7953"
             ],
             [
              0.7777777777777778,
              "#fb9f3a"
             ],
             [
              0.8888888888888888,
              "#fdca26"
             ],
             [
              1,
              "#f0f921"
             ]
            ],
            "type": "heatmapgl"
           }
          ],
          "histogram": [
           {
            "marker": {
             "pattern": {
              "fillmode": "overlay",
              "size": 10,
              "solidity": 0.2
             }
            },
            "type": "histogram"
           }
          ],
          "histogram2d": [
           {
            "colorbar": {
             "outlinewidth": 0,
             "ticks": ""
            },
            "colorscale": [
             [
              0,
              "#0d0887"
             ],
             [
              0.1111111111111111,
              "#46039f"
             ],
             [
              0.2222222222222222,
              "#7201a8"
             ],
             [
              0.3333333333333333,
              "#9c179e"
             ],
             [
              0.4444444444444444,
              "#bd3786"
             ],
             [
              0.5555555555555556,
              "#d8576b"
             ],
             [
              0.6666666666666666,
              "#ed7953"
             ],
             [
              0.7777777777777778,
              "#fb9f3a"
             ],
             [
              0.8888888888888888,
              "#fdca26"
             ],
             [
              1,
              "#f0f921"
             ]
            ],
            "type": "histogram2d"
           }
          ],
          "histogram2dcontour": [
           {
            "colorbar": {
             "outlinewidth": 0,
             "ticks": ""
            },
            "colorscale": [
             [
              0,
              "#0d0887"
             ],
             [
              0.1111111111111111,
              "#46039f"
             ],
             [
              0.2222222222222222,
              "#7201a8"
             ],
             [
              0.3333333333333333,
              "#9c179e"
             ],
             [
              0.4444444444444444,
              "#bd3786"
             ],
             [
              0.5555555555555556,
              "#d8576b"
             ],
             [
              0.6666666666666666,
              "#ed7953"
             ],
             [
              0.7777777777777778,
              "#fb9f3a"
             ],
             [
              0.8888888888888888,
              "#fdca26"
             ],
             [
              1,
              "#f0f921"
             ]
            ],
            "type": "histogram2dcontour"
           }
          ],
          "mesh3d": [
           {
            "colorbar": {
             "outlinewidth": 0,
             "ticks": ""
            },
            "type": "mesh3d"
           }
          ],
          "parcoords": [
           {
            "line": {
             "colorbar": {
              "outlinewidth": 0,
              "ticks": ""
             }
            },
            "type": "parcoords"
           }
          ],
          "pie": [
           {
            "automargin": true,
            "type": "pie"
           }
          ],
          "scatter": [
           {
            "fillpattern": {
             "fillmode": "overlay",
             "size": 10,
             "solidity": 0.2
            },
            "type": "scatter"
           }
          ],
          "scatter3d": [
           {
            "line": {
             "colorbar": {
              "outlinewidth": 0,
              "ticks": ""
             }
            },
            "marker": {
             "colorbar": {
              "outlinewidth": 0,
              "ticks": ""
             }
            },
            "type": "scatter3d"
           }
          ],
          "scattercarpet": [
           {
            "marker": {
             "colorbar": {
              "outlinewidth": 0,
              "ticks": ""
             }
            },
            "type": "scattercarpet"
           }
          ],
          "scattergeo": [
           {
            "marker": {
             "colorbar": {
              "outlinewidth": 0,
              "ticks": ""
             }
            },
            "type": "scattergeo"
           }
          ],
          "scattergl": [
           {
            "marker": {
             "colorbar": {
              "outlinewidth": 0,
              "ticks": ""
             }
            },
            "type": "scattergl"
           }
          ],
          "scattermapbox": [
           {
            "marker": {
             "colorbar": {
              "outlinewidth": 0,
              "ticks": ""
             }
            },
            "type": "scattermapbox"
           }
          ],
          "scatterpolar": [
           {
            "marker": {
             "colorbar": {
              "outlinewidth": 0,
              "ticks": ""
             }
            },
            "type": "scatterpolar"
           }
          ],
          "scatterpolargl": [
           {
            "marker": {
             "colorbar": {
              "outlinewidth": 0,
              "ticks": ""
             }
            },
            "type": "scatterpolargl"
           }
          ],
          "scatterternary": [
           {
            "marker": {
             "colorbar": {
              "outlinewidth": 0,
              "ticks": ""
             }
            },
            "type": "scatterternary"
           }
          ],
          "surface": [
           {
            "colorbar": {
             "outlinewidth": 0,
             "ticks": ""
            },
            "colorscale": [
             [
              0,
              "#0d0887"
             ],
             [
              0.1111111111111111,
              "#46039f"
             ],
             [
              0.2222222222222222,
              "#7201a8"
             ],
             [
              0.3333333333333333,
              "#9c179e"
             ],
             [
              0.4444444444444444,
              "#bd3786"
             ],
             [
              0.5555555555555556,
              "#d8576b"
             ],
             [
              0.6666666666666666,
              "#ed7953"
             ],
             [
              0.7777777777777778,
              "#fb9f3a"
             ],
             [
              0.8888888888888888,
              "#fdca26"
             ],
             [
              1,
              "#f0f921"
             ]
            ],
            "type": "surface"
           }
          ],
          "table": [
           {
            "cells": {
             "fill": {
              "color": "#EBF0F8"
             },
             "line": {
              "color": "white"
             }
            },
            "header": {
             "fill": {
              "color": "#C8D4E3"
             },
             "line": {
              "color": "white"
             }
            },
            "type": "table"
           }
          ]
         },
         "layout": {
          "annotationdefaults": {
           "arrowcolor": "#2a3f5f",
           "arrowhead": 0,
           "arrowwidth": 1
          },
          "autotypenumbers": "strict",
          "coloraxis": {
           "colorbar": {
            "outlinewidth": 0,
            "ticks": ""
           }
          },
          "colorscale": {
           "diverging": [
            [
             0,
             "#8e0152"
            ],
            [
             0.1,
             "#c51b7d"
            ],
            [
             0.2,
             "#de77ae"
            ],
            [
             0.3,
             "#f1b6da"
            ],
            [
             0.4,
             "#fde0ef"
            ],
            [
             0.5,
             "#f7f7f7"
            ],
            [
             0.6,
             "#e6f5d0"
            ],
            [
             0.7,
             "#b8e186"
            ],
            [
             0.8,
             "#7fbc41"
            ],
            [
             0.9,
             "#4d9221"
            ],
            [
             1,
             "#276419"
            ]
           ],
           "sequential": [
            [
             0,
             "#0d0887"
            ],
            [
             0.1111111111111111,
             "#46039f"
            ],
            [
             0.2222222222222222,
             "#7201a8"
            ],
            [
             0.3333333333333333,
             "#9c179e"
            ],
            [
             0.4444444444444444,
             "#bd3786"
            ],
            [
             0.5555555555555556,
             "#d8576b"
            ],
            [
             0.6666666666666666,
             "#ed7953"
            ],
            [
             0.7777777777777778,
             "#fb9f3a"
            ],
            [
             0.8888888888888888,
             "#fdca26"
            ],
            [
             1,
             "#f0f921"
            ]
           ],
           "sequentialminus": [
            [
             0,
             "#0d0887"
            ],
            [
             0.1111111111111111,
             "#46039f"
            ],
            [
             0.2222222222222222,
             "#7201a8"
            ],
            [
             0.3333333333333333,
             "#9c179e"
            ],
            [
             0.4444444444444444,
             "#bd3786"
            ],
            [
             0.5555555555555556,
             "#d8576b"
            ],
            [
             0.6666666666666666,
             "#ed7953"
            ],
            [
             0.7777777777777778,
             "#fb9f3a"
            ],
            [
             0.8888888888888888,
             "#fdca26"
            ],
            [
             1,
             "#f0f921"
            ]
           ]
          },
          "colorway": [
           "#636efa",
           "#EF553B",
           "#00cc96",
           "#ab63fa",
           "#FFA15A",
           "#19d3f3",
           "#FF6692",
           "#B6E880",
           "#FF97FF",
           "#FECB52"
          ],
          "font": {
           "color": "#2a3f5f"
          },
          "geo": {
           "bgcolor": "white",
           "lakecolor": "white",
           "landcolor": "#E5ECF6",
           "showlakes": true,
           "showland": true,
           "subunitcolor": "white"
          },
          "hoverlabel": {
           "align": "left"
          },
          "hovermode": "closest",
          "mapbox": {
           "style": "light"
          },
          "paper_bgcolor": "white",
          "plot_bgcolor": "#E5ECF6",
          "polar": {
           "angularaxis": {
            "gridcolor": "white",
            "linecolor": "white",
            "ticks": ""
           },
           "bgcolor": "#E5ECF6",
           "radialaxis": {
            "gridcolor": "white",
            "linecolor": "white",
            "ticks": ""
           }
          },
          "scene": {
           "xaxis": {
            "backgroundcolor": "#E5ECF6",
            "gridcolor": "white",
            "gridwidth": 2,
            "linecolor": "white",
            "showbackground": true,
            "ticks": "",
            "zerolinecolor": "white"
           },
           "yaxis": {
            "backgroundcolor": "#E5ECF6",
            "gridcolor": "white",
            "gridwidth": 2,
            "linecolor": "white",
            "showbackground": true,
            "ticks": "",
            "zerolinecolor": "white"
           },
           "zaxis": {
            "backgroundcolor": "#E5ECF6",
            "gridcolor": "white",
            "gridwidth": 2,
            "linecolor": "white",
            "showbackground": true,
            "ticks": "",
            "zerolinecolor": "white"
           }
          },
          "shapedefaults": {
           "line": {
            "color": "#2a3f5f"
           }
          },
          "ternary": {
           "aaxis": {
            "gridcolor": "white",
            "linecolor": "white",
            "ticks": ""
           },
           "baxis": {
            "gridcolor": "white",
            "linecolor": "white",
            "ticks": ""
           },
           "bgcolor": "#E5ECF6",
           "caxis": {
            "gridcolor": "white",
            "linecolor": "white",
            "ticks": ""
           }
          },
          "title": {
           "x": 0.05
          },
          "xaxis": {
           "automargin": true,
           "gridcolor": "white",
           "linecolor": "white",
           "ticks": "",
           "title": {
            "standoff": 15
           },
           "zerolinecolor": "white",
           "zerolinewidth": 2
          },
          "yaxis": {
           "automargin": true,
           "gridcolor": "white",
           "linecolor": "white",
           "ticks": "",
           "title": {
            "standoff": 15
           },
           "zerolinecolor": "white",
           "zerolinewidth": 2
          }
         }
        },
        "title": {
         "text": "Total votes by polarity"
        },
        "xaxis": {
         "anchor": "y",
         "domain": [
          0,
          1
         ],
         "title": {
          "text": "polarity"
         }
        },
        "yaxis": {
         "anchor": "x",
         "domain": [
          0,
          1
         ],
         "title": {
          "text": "votes"
         }
        }
       }
      }
     },
     "metadata": {},
     "output_type": "display_data"
    },
    {
     "data": {
      "application/vnd.plotly.v1+json": {
       "config": {
        "plotlyServerURL": "https://plot.ly"
       },
       "data": [
        {
         "hovertemplate": "<b>%{hovertext}</b><br><br>subjectivity=%{x}<br>votes=%{y}<extra></extra>",
         "hovertext": [
          "SpartaDEX STIP Proposal - Round 1",
          "TIDE STIP Proposal - Round 1",
          "Curve STIP Proposal - Round 1",
          "Proposal: [Non-Constitutional] Funding for Into the Dungeons: Machinata - a PvP Digital Miniature Game V2",
          "RabbitHole STIP Proposal - Round 1",
          "Wormhole STIP Proposal - Round 1",
          "Stargate Finance STIP Proposal - Round 1",
          "Furucombo STIP Proposal - Round 1",
          "OmniBTC STIP Proposal - Round 1",
          "ZKasino STIP Proposal - Round 1",
          "Consolidate Security Proposals into a RFP Process",
          "Vertex Protocol STIP Proposal - Round 1",
          "Chronos Finance STIP Proposal - Round 1",
          "CVI STIP Proposal - Round 1",
          "Synapse Protocol STIP Proposal - Round 1",
          "Arbidex STIP Proposal - Round 1",
          "Shell Protocol STIP Proposal - Round 1",
          "Tales of Elleria STIP Proposal - Round 1",
          "Procurement Framework | Security : Non-Constitutional Proposal",
          "Silo Finance STIP Proposal - Round 1",
          "XY STIP Proposal - Round 1",
          "AIP-1.2 - Foundation and DAO Governance",
          "Tally STIP Proposal - Round 1",
          "AIP 1.05: Return 700M $ARB to the DAO Treasury [REAL]",
          "JOJO Exchange STIP Proposal - Round 1",
          "D2.finance STIP Proposal - Round 1",
          "unshETH STIP Proposal - Round 1",
          "WINR Protocol STIP Proposal - Round 1",
          "LODESTAR FINANCE STIP Proposal - Round 1",
          "Rodeo Finance STIP Proposal - Round 1",
          "Vela Exchange STIP Proposal - Round 1",
          "Rysk STIP Proposal - Round 1",
          "NFTEarth STIP Proposal - Round 1",
          "[Constitutional] Changes to the Constitution and the Security Council Election Process",
          "Modular Wallet STIP Proposal - Round 1",
          "Timeswap STIP Proposal - Round 1",
          "Equilibria STIP Proposal - Round 1",
          "[Non-Constitutional]: Arbitrum Stable Treasury Endowment Program",
          "Guru Network STIP Proposal - Round 1",
          "Wombat Exchange STIP Proposal - Round 1",
          "Angle Protocol STIP Proposal - Round 1",
          "Good Entry STIP Proposal - Round 1",
          "Time Management in Arbitrum’s Governance",
          "Proposal: Update Security Council Election Start Date to Ensure Time for Security Audit",
          "Thetanuts STIP Proposal - Round 1",
          "KeplerHomes STIP Proposal - Round 1",
          "Wombex Finance STIP Proposal - Round 1",
          "iZUMi STIP Proposal - Round 1",
          "Proposal: Building the Future of NFTs: The Rarible Protocol - Arbitrum Integration Proposal [REVISED]",
          "LOGX STIP Proposal - Round 1",
          "RADIANT STIP Proposal - Round 1",
          "Accelerating Arbitrum - leveraging Camelot as an ecosystem hub to support native builders",
          "Lido STIP Proposal - Round 1",
          "Camelot STIP Proposal - Round 1",
          "HMX STIP Proposal - Round 1",
          "Arbitrum as official sponsor of Ethereum Mexico 2023",
          "DefiEdge STIP Proposal - Round 1",
          "MUX Protocol STIP Proposal - Round 1",
          "0xGen STIP Proposal - Round 1",
          "AIP-1.1 - Lockup, Budget, Transparency",
          "Dolomite STIP Proposal - Round 1",
          "Pendle STIP Proposal - Round 1",
          "Beefy STIP Proposal - Round 1",
          "UniDex STIP Proposal - Round 1",
          "Trader Joe STIP Proposal - Round 1",
          "CRYPTEX STIP Proposal - Round 1",
          "Archi Finance STIP Proposal - Round 1",
          "AIP: ArbOS Version 20 “Atlas”",
          "Stella STIP Proposal - Round 1",
          "GMX STIP Proposal - Round 1",
          "Prime Protocol STIP Proposal - Round 1",
          "StakeDAO STIP Proposal - Round 1",
          "OpenOcean STIP Proposal - Round 1",
          "KyberSwap STIP Proposal - Round 1",
          "WOOFi STIP Proposal - Round 1",
          "Proposal: Build Optimal Onboarding for STIP Teams (BOOST)",
          "Gamma STIP Proposal - Round 1",
          "tBTC STIP Proposal - Round 1",
          "Perennial Finance STIP Proposal - Round 1",
          "Arrakis Finance STIP Proposal - Round 1",
          "Relay Chain: James Bot STIP Proposal - Round 1",
          "Savvy STIP Proposal - Round 1",
          "Magpie, Penpie, Radpie, Campie STIP Proposal - Round 1",
          "Webacy STIP Proposal - Round 1",
          "Proposal: Empowering Early Contributors: The community Arbiter Proposal",
          "REALM STIP Proposal - Round 1",
          "Umami STIP Proposal - Round 1",
          "Proposal: Activate support for account abstraction endpoint on One and Nova",
          "Dopex STIP Proposal - Round 1",
          "ALAYA STIP Proposal - Round 1",
          "Solv Protocol STIP Proposal - Round 1",
          "RAMSES STIP Proposal - Round 1",
          "Jones DAO STIP Proposal - Round 1",
          "Balancer DAO STIP Proposal - Round 1",
          "AIP: Batch Poster Manager and Sequencer Inbox Finality Fix",
          "Gains Network STIP Proposal - Round 1",
          "QiDao STIP Proposal - Round 1",
          "Proposal to Backfund Successful STIP Proposals",
          "Galxe STIP Proposal - Round 1",
          "Frax Finance STIP Proposal - Round 1",
          "Non-Constitutional AIP: Arbitrum Security Enhancement Fund",
          "Abracadabra DAO STIP Proposal - Round 1",
          "Thales STIP Proposal - Round 1",
          "Quadrat STIP Proposal - Round 1",
          "Notional STIP Proposal - Round 1",
          "Range Protocol STIP Proposal - Round 1",
          "Arbitrum DAO Grants - Delegated Domain Allocation by Questbook",
          "Socket STIP Proposal - Round 1",
          "Vaultka STIP Proposal - Round 1",
          "Florence Finance STIP Proposal - Round 1",
          "Cian STIP Proposal - Round 1",
          "Sanko GameCorp STIP Proposal - Round 1",
          "AIP 1.05: Return 700M $ARB to the DAO Treasury ",
          "ApolloX STIP Proposal - Round 1",
          "Artichoke Protocol STIP Proposal - Round 1",
          "Proposal to onboard Matrixed.Link as a validator for Arbitrum",
          "PancakeSwap STIP Proposal - Round 1",
          " Empowering Early Contributors: The community Arbiter Proposal 2.0",
          "GMD Ecosystem STIP Proposal - Round 1",
          "Premia STIP Proposal - Round 1",
          "Proposal: Security Council Elections Proposed Implementation Spec",
          "dForce STIP Proposal - Round 1"
         ],
         "legendgroup": "",
         "marker": {
          "color": "#636efa",
          "symbol": "circle"
         },
         "mode": "markers",
         "name": "",
         "orientation": "v",
         "showlegend": false,
         "type": "scatter",
         "x": [
          0.5229250089368488,
          0.4395258671497061,
          0.5225377947719668,
          0.4874496947146307,
          0.5579334957071824,
          0.4993101023855522,
          0.4689533051775931,
          0.4791237651237651,
          0.5310539550748529,
          0.4442715549615612,
          0.4609559153519156,
          0.5117981128923534,
          0.4831819698715132,
          0.6123736392549143,
          0.4992328239133795,
          0.4527192865677856,
          0.4923648746368224,
          0.4149939588630065,
          0.4609559153519156,
          0.3409398900674942,
          0.5909528810134871,
          0.4583553830955661,
          0.481176538488458,
          0.4488199008344767,
          0.4649618186237245,
          0.5017387792671509,
          0.5385222126144745,
          0.5037218794055178,
          0.5207136000799697,
          0.5346164395130869,
          0.5333615143571961,
          0.4884474302900694,
          0.541712584944667,
          0.4876482204188725,
          0.4471625880432698,
          0.5474667289954844,
          0.4818477208654459,
          0.4700840721543259,
          0.5558566143036799,
          0.5541874094894377,
          0.5364838757472686,
          0.5559372268986372,
          0.4683163324542634,
          0.489023029189349,
          0.5511046344528487,
          0.5576652507177224,
          0.5821466215065612,
          0.4754579877735724,
          0.4365017764024796,
          0.4804695981838027,
          0.5291395702252921,
          0.4698891381883814,
          0.4316366399610603,
          0.495466753440751,
          0.4204271987110588,
          0.4502397335514551,
          0.4732262287396216,
          0.5034766266693291,
          0.518404868355688,
          0.4210328729010155,
          0.5451543021226875,
          0.5445225358406804,
          0.5121538584604758,
          0.4609836280515442,
          0.5711047482240664,
          0.4382076782866256,
          0.5038111836959763,
          0.4245929248185657,
          0.5653892707545981,
          0.5015139355600461,
          0.5262468246361897,
          0.42104016575083,
          0.5633590210235089,
          0.5197759469149411,
          0.5072345448634857,
          0.4751691942239713,
          0.5175822576188231,
          0.5215153882201224,
          0.4943482216951604,
          0.4802039857889478,
          0.3634895870276968,
          0.4674536592931479,
          0.4819732039896826,
          0.5463869959843204,
          0.4033131643416989,
          0.5247853010620065,
          0.5447275018632137,
          0.4074636407031177,
          0.5142635716253594,
          0.3854826414409981,
          0.5731698776557648,
          0.4882091826118121,
          0.4649618186237245,
          0.4932622443619912,
          0.5001022996253259,
          0.4453221698704077,
          0.555507831946161,
          0.4885746985541102,
          0.4462294677544677,
          0.4198388082005607,
          0.4932427047085791,
          0.4785013829388922,
          0.5082492385082504,
          0.5128023029544058,
          0.4488690485238104,
          0.3379724762152239,
          0.4525017266101659,
          0.448013879229157,
          0.4823038121891375,
          0.5059233724608724,
          0.5027749926840835,
          0.4828529385491949,
          0.4488199008344767,
          0.3927898128564034,
          0.4735183708997617,
          0.476874418504599,
          0.5190522510690249,
          0.3998021964695282,
          0.5350023769176729,
          0.4814853223000544,
          0.3885088565261495,
          0.4432891532809296
         ],
         "xaxis": "x",
         "y": [
          18001,
          15873,
          21353,
          25845,
          18303,
          17890,
          18899,
          22011,
          17922,
          20293,
          50045,
          21941,
          16281,
          18290,
          28719,
          17018,
          16787,
          18495,
          50518,
          26404,
          16933,
          46269,
          17997,
          43392,
          26171,
          28413,
          16453,
          17325,
          17068,
          22394,
          17364,
          24207,
          17574,
          27586,
          15783,
          19478,
          17378,
          28073,
          16486,
          23211,
          18064,
          30222,
          50713,
          51495,
          20178,
          16818,
          17433,
          29840,
          50560,
          16384,
          18050,
          49504,
          17692,
          24273,
          18075,
          53609,
          18950,
          17243,
          16178,
          45230,
          21962,
          17310,
          19824,
          32503,
          16780,
          15852,
          16148,
          28294,
          15649,
          17577,
          16927,
          18711,
          16616,
          17033,
          19465,
          43576,
          18121,
          16981,
          18045,
          17395,
          17145,
          16238,
          17647,
          16579,
          44551,
          17154,
          16872,
          45999,
          16896,
          20982,
          17515,
          16301,
          28294,
          18181,
          26146,
          16366,
          18737,
          45352,
          18555,
          16449,
          50737,
          17194,
          25797,
          18337,
          16134,
          16609,
          51622,
          17799,
          18769,
          16163,
          16209,
          23843,
          26246,
          17341,
          18293,
          45087,
          20756,
          26994,
          25908,
          17253,
          53520,
          17276
         ],
         "yaxis": "y"
        },
        {
         "hovertemplate": "<b>OLS trendline</b><br>votes = -65703.7 * subjectivity + 55943<br>R<sup>2</sup>=0.094130<br><br>subjectivity=%{x}<br>votes=%{y} <b>(trend)</b><extra></extra>",
         "legendgroup": "",
         "line": {
          "color": "darkblue"
         },
         "marker": {
          "color": "#636efa",
          "symbol": "circle"
         },
         "mode": "lines",
         "name": "",
         "showlegend": false,
         "type": "scatter",
         "x": [
          0.3379724762152239,
          0.3409398900674942,
          0.3634895870276968,
          0.3854826414409981,
          0.3885088565261495,
          0.3927898128564034,
          0.3998021964695282,
          0.4033131643416989,
          0.4074636407031177,
          0.4149939588630065,
          0.4198388082005607,
          0.4204271987110588,
          0.4210328729010155,
          0.42104016575083,
          0.4245929248185657,
          0.4316366399610603,
          0.4365017764024796,
          0.4382076782866256,
          0.4395258671497061,
          0.4432891532809296,
          0.4442715549615612,
          0.4453221698704077,
          0.4462294677544677,
          0.4471625880432698,
          0.448013879229157,
          0.4488199008344767,
          0.4488199008344767,
          0.4488690485238104,
          0.4502397335514551,
          0.4525017266101659,
          0.4527192865677856,
          0.4583553830955661,
          0.4609559153519156,
          0.4609559153519156,
          0.4609836280515442,
          0.4649618186237245,
          0.4649618186237245,
          0.4674536592931479,
          0.4683163324542634,
          0.4689533051775931,
          0.4698891381883814,
          0.4700840721543259,
          0.4732262287396216,
          0.4735183708997617,
          0.4751691942239713,
          0.4754579877735724,
          0.476874418504599,
          0.4785013829388922,
          0.4791237651237651,
          0.4802039857889478,
          0.4804695981838027,
          0.481176538488458,
          0.4814853223000544,
          0.4818477208654459,
          0.4819732039896826,
          0.4823038121891375,
          0.4828529385491949,
          0.4831819698715132,
          0.4874496947146307,
          0.4876482204188725,
          0.4882091826118121,
          0.4884474302900694,
          0.4885746985541102,
          0.489023029189349,
          0.4923648746368224,
          0.4932427047085791,
          0.4932622443619912,
          0.4943482216951604,
          0.495466753440751,
          0.4992328239133795,
          0.4993101023855522,
          0.5001022996253259,
          0.5015139355600461,
          0.5017387792671509,
          0.5027749926840835,
          0.5034766266693291,
          0.5037218794055178,
          0.5038111836959763,
          0.5059233724608724,
          0.5072345448634857,
          0.5082492385082504,
          0.5117981128923534,
          0.5121538584604758,
          0.5128023029544058,
          0.5142635716253594,
          0.5175822576188231,
          0.518404868355688,
          0.5190522510690249,
          0.5197759469149411,
          0.5207136000799697,
          0.5215153882201224,
          0.5225377947719668,
          0.5229250089368488,
          0.5247853010620065,
          0.5262468246361897,
          0.5291395702252921,
          0.5310539550748529,
          0.5333615143571961,
          0.5346164395130869,
          0.5350023769176729,
          0.5364838757472686,
          0.5385222126144745,
          0.541712584944667,
          0.5445225358406804,
          0.5447275018632137,
          0.5451543021226875,
          0.5463869959843204,
          0.5474667289954844,
          0.5511046344528487,
          0.5541874094894377,
          0.555507831946161,
          0.5558566143036799,
          0.5559372268986372,
          0.5576652507177224,
          0.5579334957071824,
          0.5633590210235089,
          0.5653892707545981,
          0.5711047482240664,
          0.5731698776557648,
          0.5821466215065612,
          0.5909528810134871,
          0.6123736392549143
         ],
         "xaxis": "x",
         "y": [
          33736.931364330696,
          33541.96131511404,
          32060.362945278364,
          30615.338046541914,
          30416.504539162834,
          30135.229898025267,
          29674.490396815818,
          29443.80684106187,
          29171.105215759657,
          28676.335502014692,
          28358.011007752608,
          28319.35157819489,
          28279.556547065422,
          28279.07737989898,
          28045.647988255,
          27582.849889853725,
          27263.19245794426,
          27151.10840399396,
          27064.49852741236,
          26817.23673018793,
          26752.6893116077,
          26683.66003201165,
          26624.04721023621,
          26562.73776110305,
          26506.804786239045,
          26453.846190005952,
          26453.846190005952,
          26450.61700530664,
          26360.557936836645,
          26211.93663898593,
          26197.64214628744,
          25827.329789428117,
          25656.46521601445,
          25656.46521601445,
          25654.644389301528,
          25393.262576630594,
          25393.262576630594,
          25229.539441892965,
          25172.85862922105,
          25131.007168858607,
          25069.519483872442,
          25056.711602388328,
          24850.260310259713,
          24831.06549141192,
          24722.600302263152,
          24703.62549949471,
          24610.5607693665,
          24503.66319739985,
          24462.770389299152,
          24391.795902173133,
          24374.344186883136,
          24327.8955980264,
          24307.607361217706,
          24283.79643707702,
          24275.55173238591,
          24253.829552694042,
          24217.749922828913,
          24196.131349788575,
          23915.726066221818,
          23902.68219426672,
          23865.824906469654,
          23850.17115412229,
          23841.80915915325,
          23812.35218066305,
          23592.780592807223,
          23535.103915129344,
          23533.820087737182,
          23462.467366264176,
          23388.97569966656,
          23141.530960928816,
          23136.453479905613,
          23084.403195544426,
          22991.653501241482,
          22976.88043930179,
          22908.79739091144,
          22862.697446836988,
          22846.583436312758,
          22840.715814614952,
          22701.937212118508,
          22615.788342902484,
          22549.119223019443,
          22315.94506943688,
          22292.571271787332,
          22249.96607372941,
          22153.955325354484,
          21935.90539915857,
          21881.85683571671,
          21839.321400565077,
          21791.771910766667,
          21730.164634924804,
          21677.484192988028,
          21610.30830662488,
          21584.866905949788,
          21462.63884297776,
          21366.611346519257,
          21176.547277954276,
          21050.765123216093,
          20899.149956189554,
          20816.696738813065,
          20791.339226004693,
          20693.99928149385,
          20560.073021422235,
          20350.45377678563,
          20165.82962533032,
          20152.36260067837,
          20124.320247390977,
          20043.327708150868,
          19972.385261694857,
          19733.361437793374,
          19530.81173272012,
          19444.055100787176,
          19421.1388117905,
          19415.842266586915,
          19302.304719811345,
          19284.680033333214,
          18928.202982738774,
          18794.808077377078,
          18419.28009948266,
          18283.59346897477,
          17693.788245461343,
          17115.1844729655,
          15707.76154630026
         ],
         "yaxis": "y"
        }
       ],
       "layout": {
        "legend": {
         "tracegroupgap": 0
        },
        "template": {
         "data": {
          "bar": [
           {
            "error_x": {
             "color": "#2a3f5f"
            },
            "error_y": {
             "color": "#2a3f5f"
            },
            "marker": {
             "line": {
              "color": "#E5ECF6",
              "width": 0.5
             },
             "pattern": {
              "fillmode": "overlay",
              "size": 10,
              "solidity": 0.2
             }
            },
            "type": "bar"
           }
          ],
          "barpolar": [
           {
            "marker": {
             "line": {
              "color": "#E5ECF6",
              "width": 0.5
             },
             "pattern": {
              "fillmode": "overlay",
              "size": 10,
              "solidity": 0.2
             }
            },
            "type": "barpolar"
           }
          ],
          "carpet": [
           {
            "aaxis": {
             "endlinecolor": "#2a3f5f",
             "gridcolor": "white",
             "linecolor": "white",
             "minorgridcolor": "white",
             "startlinecolor": "#2a3f5f"
            },
            "baxis": {
             "endlinecolor": "#2a3f5f",
             "gridcolor": "white",
             "linecolor": "white",
             "minorgridcolor": "white",
             "startlinecolor": "#2a3f5f"
            },
            "type": "carpet"
           }
          ],
          "choropleth": [
           {
            "colorbar": {
             "outlinewidth": 0,
             "ticks": ""
            },
            "type": "choropleth"
           }
          ],
          "contour": [
           {
            "colorbar": {
             "outlinewidth": 0,
             "ticks": ""
            },
            "colorscale": [
             [
              0,
              "#0d0887"
             ],
             [
              0.1111111111111111,
              "#46039f"
             ],
             [
              0.2222222222222222,
              "#7201a8"
             ],
             [
              0.3333333333333333,
              "#9c179e"
             ],
             [
              0.4444444444444444,
              "#bd3786"
             ],
             [
              0.5555555555555556,
              "#d8576b"
             ],
             [
              0.6666666666666666,
              "#ed7953"
             ],
             [
              0.7777777777777778,
              "#fb9f3a"
             ],
             [
              0.8888888888888888,
              "#fdca26"
             ],
             [
              1,
              "#f0f921"
             ]
            ],
            "type": "contour"
           }
          ],
          "contourcarpet": [
           {
            "colorbar": {
             "outlinewidth": 0,
             "ticks": ""
            },
            "type": "contourcarpet"
           }
          ],
          "heatmap": [
           {
            "colorbar": {
             "outlinewidth": 0,
             "ticks": ""
            },
            "colorscale": [
             [
              0,
              "#0d0887"
             ],
             [
              0.1111111111111111,
              "#46039f"
             ],
             [
              0.2222222222222222,
              "#7201a8"
             ],
             [
              0.3333333333333333,
              "#9c179e"
             ],
             [
              0.4444444444444444,
              "#bd3786"
             ],
             [
              0.5555555555555556,
              "#d8576b"
             ],
             [
              0.6666666666666666,
              "#ed7953"
             ],
             [
              0.7777777777777778,
              "#fb9f3a"
             ],
             [
              0.8888888888888888,
              "#fdca26"
             ],
             [
              1,
              "#f0f921"
             ]
            ],
            "type": "heatmap"
           }
          ],
          "heatmapgl": [
           {
            "colorbar": {
             "outlinewidth": 0,
             "ticks": ""
            },
            "colorscale": [
             [
              0,
              "#0d0887"
             ],
             [
              0.1111111111111111,
              "#46039f"
             ],
             [
              0.2222222222222222,
              "#7201a8"
             ],
             [
              0.3333333333333333,
              "#9c179e"
             ],
             [
              0.4444444444444444,
              "#bd3786"
             ],
             [
              0.5555555555555556,
              "#d8576b"
             ],
             [
              0.6666666666666666,
              "#ed7953"
             ],
             [
              0.7777777777777778,
              "#fb9f3a"
             ],
             [
              0.8888888888888888,
              "#fdca26"
             ],
             [
              1,
              "#f0f921"
             ]
            ],
            "type": "heatmapgl"
           }
          ],
          "histogram": [
           {
            "marker": {
             "pattern": {
              "fillmode": "overlay",
              "size": 10,
              "solidity": 0.2
             }
            },
            "type": "histogram"
           }
          ],
          "histogram2d": [
           {
            "colorbar": {
             "outlinewidth": 0,
             "ticks": ""
            },
            "colorscale": [
             [
              0,
              "#0d0887"
             ],
             [
              0.1111111111111111,
              "#46039f"
             ],
             [
              0.2222222222222222,
              "#7201a8"
             ],
             [
              0.3333333333333333,
              "#9c179e"
             ],
             [
              0.4444444444444444,
              "#bd3786"
             ],
             [
              0.5555555555555556,
              "#d8576b"
             ],
             [
              0.6666666666666666,
              "#ed7953"
             ],
             [
              0.7777777777777778,
              "#fb9f3a"
             ],
             [
              0.8888888888888888,
              "#fdca26"
             ],
             [
              1,
              "#f0f921"
             ]
            ],
            "type": "histogram2d"
           }
          ],
          "histogram2dcontour": [
           {
            "colorbar": {
             "outlinewidth": 0,
             "ticks": ""
            },
            "colorscale": [
             [
              0,
              "#0d0887"
             ],
             [
              0.1111111111111111,
              "#46039f"
             ],
             [
              0.2222222222222222,
              "#7201a8"
             ],
             [
              0.3333333333333333,
              "#9c179e"
             ],
             [
              0.4444444444444444,
              "#bd3786"
             ],
             [
              0.5555555555555556,
              "#d8576b"
             ],
             [
              0.6666666666666666,
              "#ed7953"
             ],
             [
              0.7777777777777778,
              "#fb9f3a"
             ],
             [
              0.8888888888888888,
              "#fdca26"
             ],
             [
              1,
              "#f0f921"
             ]
            ],
            "type": "histogram2dcontour"
           }
          ],
          "mesh3d": [
           {
            "colorbar": {
             "outlinewidth": 0,
             "ticks": ""
            },
            "type": "mesh3d"
           }
          ],
          "parcoords": [
           {
            "line": {
             "colorbar": {
              "outlinewidth": 0,
              "ticks": ""
             }
            },
            "type": "parcoords"
           }
          ],
          "pie": [
           {
            "automargin": true,
            "type": "pie"
           }
          ],
          "scatter": [
           {
            "fillpattern": {
             "fillmode": "overlay",
             "size": 10,
             "solidity": 0.2
            },
            "type": "scatter"
           }
          ],
          "scatter3d": [
           {
            "line": {
             "colorbar": {
              "outlinewidth": 0,
              "ticks": ""
             }
            },
            "marker": {
             "colorbar": {
              "outlinewidth": 0,
              "ticks": ""
             }
            },
            "type": "scatter3d"
           }
          ],
          "scattercarpet": [
           {
            "marker": {
             "colorbar": {
              "outlinewidth": 0,
              "ticks": ""
             }
            },
            "type": "scattercarpet"
           }
          ],
          "scattergeo": [
           {
            "marker": {
             "colorbar": {
              "outlinewidth": 0,
              "ticks": ""
             }
            },
            "type": "scattergeo"
           }
          ],
          "scattergl": [
           {
            "marker": {
             "colorbar": {
              "outlinewidth": 0,
              "ticks": ""
             }
            },
            "type": "scattergl"
           }
          ],
          "scattermapbox": [
           {
            "marker": {
             "colorbar": {
              "outlinewidth": 0,
              "ticks": ""
             }
            },
            "type": "scattermapbox"
           }
          ],
          "scatterpolar": [
           {
            "marker": {
             "colorbar": {
              "outlinewidth": 0,
              "ticks": ""
             }
            },
            "type": "scatterpolar"
           }
          ],
          "scatterpolargl": [
           {
            "marker": {
             "colorbar": {
              "outlinewidth": 0,
              "ticks": ""
             }
            },
            "type": "scatterpolargl"
           }
          ],
          "scatterternary": [
           {
            "marker": {
             "colorbar": {
              "outlinewidth": 0,
              "ticks": ""
             }
            },
            "type": "scatterternary"
           }
          ],
          "surface": [
           {
            "colorbar": {
             "outlinewidth": 0,
             "ticks": ""
            },
            "colorscale": [
             [
              0,
              "#0d0887"
             ],
             [
              0.1111111111111111,
              "#46039f"
             ],
             [
              0.2222222222222222,
              "#7201a8"
             ],
             [
              0.3333333333333333,
              "#9c179e"
             ],
             [
              0.4444444444444444,
              "#bd3786"
             ],
             [
              0.5555555555555556,
              "#d8576b"
             ],
             [
              0.6666666666666666,
              "#ed7953"
             ],
             [
              0.7777777777777778,
              "#fb9f3a"
             ],
             [
              0.8888888888888888,
              "#fdca26"
             ],
             [
              1,
              "#f0f921"
             ]
            ],
            "type": "surface"
           }
          ],
          "table": [
           {
            "cells": {
             "fill": {
              "color": "#EBF0F8"
             },
             "line": {
              "color": "white"
             }
            },
            "header": {
             "fill": {
              "color": "#C8D4E3"
             },
             "line": {
              "color": "white"
             }
            },
            "type": "table"
           }
          ]
         },
         "layout": {
          "annotationdefaults": {
           "arrowcolor": "#2a3f5f",
           "arrowhead": 0,
           "arrowwidth": 1
          },
          "autotypenumbers": "strict",
          "coloraxis": {
           "colorbar": {
            "outlinewidth": 0,
            "ticks": ""
           }
          },
          "colorscale": {
           "diverging": [
            [
             0,
             "#8e0152"
            ],
            [
             0.1,
             "#c51b7d"
            ],
            [
             0.2,
             "#de77ae"
            ],
            [
             0.3,
             "#f1b6da"
            ],
            [
             0.4,
             "#fde0ef"
            ],
            [
             0.5,
             "#f7f7f7"
            ],
            [
             0.6,
             "#e6f5d0"
            ],
            [
             0.7,
             "#b8e186"
            ],
            [
             0.8,
             "#7fbc41"
            ],
            [
             0.9,
             "#4d9221"
            ],
            [
             1,
             "#276419"
            ]
           ],
           "sequential": [
            [
             0,
             "#0d0887"
            ],
            [
             0.1111111111111111,
             "#46039f"
            ],
            [
             0.2222222222222222,
             "#7201a8"
            ],
            [
             0.3333333333333333,
             "#9c179e"
            ],
            [
             0.4444444444444444,
             "#bd3786"
            ],
            [
             0.5555555555555556,
             "#d8576b"
            ],
            [
             0.6666666666666666,
             "#ed7953"
            ],
            [
             0.7777777777777778,
             "#fb9f3a"
            ],
            [
             0.8888888888888888,
             "#fdca26"
            ],
            [
             1,
             "#f0f921"
            ]
           ],
           "sequentialminus": [
            [
             0,
             "#0d0887"
            ],
            [
             0.1111111111111111,
             "#46039f"
            ],
            [
             0.2222222222222222,
             "#7201a8"
            ],
            [
             0.3333333333333333,
             "#9c179e"
            ],
            [
             0.4444444444444444,
             "#bd3786"
            ],
            [
             0.5555555555555556,
             "#d8576b"
            ],
            [
             0.6666666666666666,
             "#ed7953"
            ],
            [
             0.7777777777777778,
             "#fb9f3a"
            ],
            [
             0.8888888888888888,
             "#fdca26"
            ],
            [
             1,
             "#f0f921"
            ]
           ]
          },
          "colorway": [
           "#636efa",
           "#EF553B",
           "#00cc96",
           "#ab63fa",
           "#FFA15A",
           "#19d3f3",
           "#FF6692",
           "#B6E880",
           "#FF97FF",
           "#FECB52"
          ],
          "font": {
           "color": "#2a3f5f"
          },
          "geo": {
           "bgcolor": "white",
           "lakecolor": "white",
           "landcolor": "#E5ECF6",
           "showlakes": true,
           "showland": true,
           "subunitcolor": "white"
          },
          "hoverlabel": {
           "align": "left"
          },
          "hovermode": "closest",
          "mapbox": {
           "style": "light"
          },
          "paper_bgcolor": "white",
          "plot_bgcolor": "#E5ECF6",
          "polar": {
           "angularaxis": {
            "gridcolor": "white",
            "linecolor": "white",
            "ticks": ""
           },
           "bgcolor": "#E5ECF6",
           "radialaxis": {
            "gridcolor": "white",
            "linecolor": "white",
            "ticks": ""
           }
          },
          "scene": {
           "xaxis": {
            "backgroundcolor": "#E5ECF6",
            "gridcolor": "white",
            "gridwidth": 2,
            "linecolor": "white",
            "showbackground": true,
            "ticks": "",
            "zerolinecolor": "white"
           },
           "yaxis": {
            "backgroundcolor": "#E5ECF6",
            "gridcolor": "white",
            "gridwidth": 2,
            "linecolor": "white",
            "showbackground": true,
            "ticks": "",
            "zerolinecolor": "white"
           },
           "zaxis": {
            "backgroundcolor": "#E5ECF6",
            "gridcolor": "white",
            "gridwidth": 2,
            "linecolor": "white",
            "showbackground": true,
            "ticks": "",
            "zerolinecolor": "white"
           }
          },
          "shapedefaults": {
           "line": {
            "color": "#2a3f5f"
           }
          },
          "ternary": {
           "aaxis": {
            "gridcolor": "white",
            "linecolor": "white",
            "ticks": ""
           },
           "baxis": {
            "gridcolor": "white",
            "linecolor": "white",
            "ticks": ""
           },
           "bgcolor": "#E5ECF6",
           "caxis": {
            "gridcolor": "white",
            "linecolor": "white",
            "ticks": ""
           }
          },
          "title": {
           "x": 0.05
          },
          "xaxis": {
           "automargin": true,
           "gridcolor": "white",
           "linecolor": "white",
           "ticks": "",
           "title": {
            "standoff": 15
           },
           "zerolinecolor": "white",
           "zerolinewidth": 2
          },
          "yaxis": {
           "automargin": true,
           "gridcolor": "white",
           "linecolor": "white",
           "ticks": "",
           "title": {
            "standoff": 15
           },
           "zerolinecolor": "white",
           "zerolinewidth": 2
          }
         }
        },
        "title": {
         "text": "Total votes by subjectivity"
        },
        "xaxis": {
         "anchor": "y",
         "domain": [
          0,
          1
         ],
         "title": {
          "text": "subjectivity"
         }
        },
        "yaxis": {
         "anchor": "x",
         "domain": [
          0,
          1
         ],
         "title": {
          "text": "votes"
         }
        }
       }
      }
     },
     "metadata": {},
     "output_type": "display_data"
    }
   ],
   "source": [
    "import plotly.express as px\n",
    "\n",
    "df = pd.read_csv('data/sentiment_by_proposal.csv')\n",
    "\n",
    "df = df[df[\"selected_choice\"].isin(['For', 'Against', 'Abstain'])]\n",
    "\n",
    "figPol = px.scatter(df, x='polarity', y='votes', hover_name='title_proposal', trendline='ols', trendline_color_override='darkblue', title=\"Total votes by polarity\")\n",
    "\n",
    "\n",
    "figPol.show()\n",
    "\n",
    "figSub = px.scatter(df, x='subjectivity', y='votes', hover_name='title_proposal', trendline='ols', trendline_color_override='darkblue', title=\"Total votes by subjectivity\")\n",
    "\n",
    "figSub.show()"
   ]
  },
  {
   "cell_type": "code",
   "execution_count": 20,
   "metadata": {},
   "outputs": [
    {
     "name": "stdout",
     "output_type": "stream",
     "text": [
      "              polarity     votes  subjectivity  scores_total\n",
      "polarity      1.000000  0.226253      0.226363      0.055215\n",
      "votes         0.226253  1.000000     -0.306806     -0.283331\n",
      "subjectivity  0.226363 -0.306806      1.000000      0.150402\n",
      "scores_total  0.055215 -0.283331      0.150402      1.000000\n"
     ]
    }
   ],
   "source": [
    "\n",
    "df_for_corr = df[['polarity', 'votes', 'subjectivity', 'scores_total']]\n",
    "df_corr = df_for_corr.corr()\n",
    "print(df_corr)\n",
    "\n",
    "# r\n",
    "# polarity <> votes = 0.22\n",
    "# subjectivity <> votes = -0.3"
   ]
  }
 ],
 "metadata": {
  "kernelspec": {
   "display_name": "Python 3",
   "language": "python",
   "name": "python3"
  },
  "language_info": {
   "codemirror_mode": {
    "name": "ipython",
    "version": 3
   },
   "file_extension": ".py",
   "mimetype": "text/x-python",
   "name": "python",
   "nbconvert_exporter": "python",
   "pygments_lexer": "ipython3",
   "version": "3.11.6"
  }
 },
 "nbformat": 4,
 "nbformat_minor": 2
}
